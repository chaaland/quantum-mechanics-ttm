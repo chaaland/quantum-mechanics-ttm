{
 "cells": [
  {
   "cell_type": "code",
   "execution_count": 1,
   "metadata": {},
   "outputs": [],
   "source": [
    "using LinearAlgebra;"
   ]
  },
  {
   "cell_type": "markdown",
   "metadata": {},
   "source": [
    "# Exercise 8.1"
   ]
  },
  {
   "cell_type": "markdown",
   "metadata": {},
   "source": [
    "Prove that \n",
    "$$\\mathbf{X}\\psi (x) = x \\psi(x)$$\n",
    "and \n",
    "$$\\mathbf{D} \\psi (x) = \\frac{\\mathrm{d}\\psi(x)}{\\mathrm{d}x}$$ are linear operators"
   ]
  },
  {
   "cell_type": "markdown",
   "metadata": {},
   "source": [
    "## Solution"
   ]
  },
  {
   "cell_type": "markdown",
   "metadata": {},
   "source": [
    "$$\n",
    "\\begin{align*}\n",
    "\\mathbf{X}(a\\psi(x)+b\\phi(x)) &= x(a\\psi(x)+b\\phi(x))\\\\\n",
    "&= ax\\psi(x)+bx\\phi(x)\\\\\n",
    "&= a\\mathbf{X}\\psi(x)+b\\mathbf{X}\\phi(x)\\\\\n",
    "\\end{align*}\n",
    "$$"
   ]
  },
  {
   "cell_type": "markdown",
   "metadata": {},
   "source": [
    "$$\n",
    "\\begin{align*}\n",
    "\\mathbf{D}(a\\psi(x)+b\\phi(x)) &= \\frac{\\mathrm{d}(a\\psi(x))}{\\mathrm{d}x} + \\frac{\\mathrm{d}(b\\phi(x))}{\\mathrm{d}x})\\\\\n",
    "&= a\\frac{\\mathrm{d}\\psi(x)}{\\mathrm{d}x} + b\\frac{\\mathrm{d}\\phi(x)}{\\mathrm{d}x}\\\\\n",
    "&= a\\mathbf{D}\\psi(x)+b\\mathbf{D}\\phi(x)\\\\\n",
    "\\end{align*}\n",
    "$$"
   ]
  },
  {
   "cell_type": "code",
   "execution_count": null,
   "metadata": {},
   "outputs": [],
   "source": []
  }
 ],
 "metadata": {
  "kernelspec": {
   "display_name": "Julia 1.3.1",
   "language": "julia",
   "name": "julia-1.3"
  },
  "language_info": {
   "file_extension": ".jl",
   "mimetype": "application/julia",
   "name": "julia",
   "version": "1.3.1"
  }
 },
 "nbformat": 4,
 "nbformat_minor": 4
}
