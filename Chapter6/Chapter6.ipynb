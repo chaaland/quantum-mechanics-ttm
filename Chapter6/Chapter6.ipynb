{
 "cells": [
  {
   "cell_type": "code",
   "execution_count": 8,
   "metadata": {},
   "outputs": [],
   "source": [
    "using LinearAlgebra;"
   ]
  },
  {
   "cell_type": "markdown",
   "metadata": {},
   "source": [
    "# Exercise 6.1 \n",
    "Prove that if $P(a,b)$ factorises, then the correlation between $a$ and $b$ is zero."
   ]
  },
  {
   "cell_type": "markdown",
   "metadata": {},
   "source": [
    "## Solution"
   ]
  },
  {
   "cell_type": "markdown",
   "metadata": {},
   "source": [
    "The covariance is given by \n",
    "\n",
    "$$\n",
    "\\begin{align*}\n",
    "\\mathbf{cov}(X,Y) &= \\sum_{x,y} (x-\\mu_x)(y-\\mu_y)P(x,y)\\\\\n",
    "&= \\sum_{x,y} \\left(xy - y\\mu_x - x \\mu_y + \\mu_x\\mu_y\\right)P(x,y)\\\\\n",
    "&= \\left(\\sum_{x,y} xyP(x,y)\\right) - \\mu_x\\mu_y\\\\\n",
    "&= \\left(\\sum_{x,y} xyP(x)P(y)\\right) - \\mu_x\\mu_y\\\\\n",
    "&= \\sum_x xP(x) \\sum_y yP(y) - \\mu_x\\mu_y\\\\\n",
    "&= \\mu_x\\mu_y - \\mu_x\\mu_y\\\\\n",
    "&= 0\n",
    "\\end{align*}\n",
    "$$"
   ]
  },
  {
   "cell_type": "markdown",
   "metadata": {},
   "source": [
    "# Exercise 6.2\n",
    "Show that if the two normalisation conditions\n",
    "\n",
    "$$\n",
    "\\alpha_u^*\\alpha_u+\\alpha_d^*\\alpha_d=1\\\\\n",
    "\\beta_u^*\\beta_u+\\beta_d^*\\beta_d=1\n",
    "$$\n",
    "\n",
    "are satisfied, then the state-vector of \n",
    "\n",
    "$$\\alpha_u\\beta_u |uu\\rangle + \\alpha_u\\beta_d |ud\\rangle +\\alpha_d\\beta_u |du\\rangle +\\alpha_d\\beta_d |dd\\rangle$$\n",
    "\n",
    "is automatically normalised as well. In other words, show that for this product state, normalising the overall state-vector does not put any additional constraints on the $\\alpha$'s and $\\beta$'s."
   ]
  },
  {
   "cell_type": "markdown",
   "metadata": {},
   "source": [
    "## Solution"
   ]
  },
  {
   "cell_type": "markdown",
   "metadata": {},
   "source": [
    "Since the basis vectors $\\langle uu|, \\langle ud|,\\langle du|,\\langle dd|$ are mutually orthogonal, the the norm of the state vector is given by\n",
    "\n",
    "$$\n",
    "\\begin{align*}\n",
    "\\langle x| x \\rangle &= \\left(\\alpha^*_u\\beta^*_u \\langle uu| + \\alpha^*_u\\beta^*_d \\langle ud | +\\alpha^*_d\\beta^*_u \\langle du| +\\alpha^*_d\\beta^*_d \\langle dd|\\right) \\left(\\alpha_u\\beta_u |uu\\rangle + \\alpha_u\\beta_d |ud\\rangle +\\alpha_d\\beta_u |du\\rangle +\\alpha_d\\beta_d |dd\\rangle\\right)\\\\\n",
    "&= \\alpha^*_u\\alpha_u \\beta^*_u \\beta_u + \\alpha^*_u\\alpha_u\\beta^*_d \\beta_d + \\alpha^*_d\\alpha_d\\beta^*_u\\beta_u +\\alpha^*_d\\alpha_d\\beta^*_d \\beta_d\\\\\n",
    "&= \\alpha^*_u\\alpha_u \\left(\\beta^*_u \\beta_u + \\beta^*_d \\beta_d\\right) + \\alpha^*_d\\alpha_d\\left(\\beta^*_u\\beta_u +\\beta^*_d \\beta_d\\right)\\\\\n",
    "&= \\alpha^*_u\\alpha_u + \\alpha^*_d\\alpha_d\\\\\n",
    "&= 1\\\\\n",
    "\\end{align*}\n",
    "$$\n"
   ]
  },
  {
   "cell_type": "markdown",
   "metadata": {},
   "source": [
    "# Exercise 6.3\n",
    "Prove that the state $|sing\\rangle = \\frac{1}{\\sqrt{2}} \\left(|ud\\rangle - |du\\rangle\\right)$ cannot be written as a product state."
   ]
  },
  {
   "cell_type": "markdown",
   "metadata": {},
   "source": [
    "## Solution"
   ]
  },
  {
   "cell_type": "markdown",
   "metadata": {},
   "source": [
    "If this state is to be written as a product state then\n",
    "\n",
    "$$\n",
    "\\begin{align*}\n",
    "\\alpha_u \\beta_u &= 0\\\\\n",
    "\\alpha_u \\beta_d &= \\frac{1}{\\sqrt{2}}\\\\\n",
    "\\alpha_d \\beta_u &= -\\frac{1}{\\sqrt{2}}\\\\\n",
    "\\alpha_d \\beta_d &= 0\\\\\n",
    "\\end{align*}\n",
    "$$\n",
    "\n",
    "The first equation implies either $\\alpha_u=0$, $\\beta_u=0$, or both. The last equation implies $\\alpha_d=0$, $\\beta_d=0$, or both. If $\\alpha_u=0$, then equation 2 cannot hold. If $\\beta_u=0$, equation 3 cannot hold. If $\\alpha_d=0$, equation 3 cannot hold. If $\\beta_d=0$, then equation 2 cannot hold. This means the system of equations has no solution and therefore the state is not a product state."
   ]
  },
  {
   "cell_type": "markdown",
   "metadata": {},
   "source": [
    "# Exercise 6.4\n",
    "Use the matrix forms of $\\sigma_z$, $\\sigma_x$, and $\\sigma_y$ and the column vectors for $|u\\}$ and $|d\\}$ to verify \n",
    "$$math$$\n",
    "Then, use Eqs. 6.6 and 6.7 to write the equations that were left out of Eqs. 6.8. Use the appendix to check your answers."
   ]
  },
  {
   "cell_type": "markdown",
   "metadata": {},
   "source": [
    "## Solution"
   ]
  },
  {
   "cell_type": "markdown",
   "metadata": {},
   "source": [
    "Skip. A bunch of banal identity lookups"
   ]
  },
  {
   "cell_type": "markdown",
   "metadata": {},
   "source": [
    "# Exercise 6.5\n",
    "Prove the following theorem:\n",
    "\n",
    "When any one of Alice's or Bob's spin operators acts on a product state, the result is still a product state.\n",
    "\n",
    "Show that in a product state, the expectation value of any component of $\\vec{\\sigma}$ or $\\vec{\\tau}$ is exactly the same as it would be in the invididual single-spin states."
   ]
  },
  {
   "cell_type": "markdown",
   "metadata": {},
   "source": [
    "## Solution"
   ]
  },
  {
   "cell_type": "markdown",
   "metadata": {},
   "source": [
    "For Alice's spin operators we have\n",
    "$$\n",
    "\\begin{align*}\n",
    "(\\sigma_x \\otimes I ) \\left(\\alpha_u\\beta_u |uu\\rangle + \\alpha_u\\beta_d |ud\\rangle +\\alpha_d\\beta_u |du\\rangle +\\alpha_d\\beta_d |dd\\rangle\\right) &= \\alpha_d\\beta_u |uu\\rangle + \\alpha_d\\beta_d |ud\\rangle + \\alpha_u\\beta_u |du\\rangle + \\alpha_u\\beta_d |dd\\rangle\\\\\n",
    "&= (\\alpha_d |u\\rangle + \\alpha_u|d\\rangle)\\otimes (\\beta_u |u\\rangle + \\beta_d|d\\rangle)\\\\\n",
    "(\\sigma_y \\otimes I ) \\left(\\alpha_u\\beta_u |uu\\rangle + \\alpha_u\\beta_d |ud\\rangle +\\alpha_d\\beta_u |du\\rangle +\\alpha_d\\beta_d |dd\\rangle\\right) &= -i\\alpha_d\\beta_u |uu\\rangle - i\\alpha_d\\beta_d |ud\\rangle + i \\alpha_u\\beta_u |du\\rangle + i\\alpha_u\\beta_d |dd\\rangle\\\\\n",
    "&= (-i\\alpha_d |u\\rangle + i\\alpha_u|d\\rangle)\\otimes (\\beta_u |u\\rangle + \\beta_d|d\\rangle)\\\\\n",
    "(\\sigma_z \\otimes I ) \\left(\\alpha_u\\beta_u |uu\\rangle + \\alpha_u\\beta_d |ud\\rangle +\\alpha_d\\beta_u |du\\rangle +\\alpha_d\\beta_d |dd\\rangle\\right) &= \\alpha_u\\beta_u |uu\\rangle + \\alpha_u\\beta_d |ud\\rangle - \\alpha_d\\beta_u |du\\rangle - \\alpha_d\\beta_d |dd\\rangle\\\\\n",
    "&= (\\alpha_u |u\\rangle - \\alpha_d|d\\rangle)\\otimes (\\beta_u |u\\rangle + \\beta_d|d\\rangle)\\\\\n",
    "\\end{align*}\n",
    "$$"
   ]
  },
  {
   "cell_type": "markdown",
   "metadata": {},
   "source": [
    "For Bob's spin operators we have\n",
    "$$\n",
    "\\begin{align*}\n",
    "(I \\otimes \\sigma_x) \\left(\\alpha_u\\beta_u |uu\\rangle + \\alpha_u\\beta_d |ud\\rangle +\\alpha_d\\beta_u |du\\rangle +\\alpha_d\\beta_d |dd\\rangle\\right) &= \\alpha_u\\beta_d |uu\\rangle + \\alpha_u\\beta_u |ud\\rangle + \\alpha_d\\beta_d |du\\rangle + \\alpha_d\\beta_u |dd\\rangle\\\\\n",
    "&= (\\alpha_d |u\\rangle + \\alpha_u|d\\rangle)\\otimes (\\beta_d |u\\rangle + \\beta_u|d\\rangle)\\\\\n",
    "(I \\otimes \\sigma_y) \\left(\\alpha_u\\beta_u |uu\\rangle + \\alpha_u\\beta_d |ud\\rangle +\\alpha_d\\beta_u |du\\rangle +\\alpha_d\\beta_d |dd\\rangle\\right) &= -i\\alpha_u\\beta_d |uu\\rangle + i\\alpha_u\\beta_u |ud\\rangle - i \\alpha_d\\beta_d |du\\rangle + i\\alpha_u\\beta_d |dd\\rangle\\\\\n",
    "&= (\\alpha_u |u\\rangle + \\alpha_d|d\\rangle)\\otimes (-i\\beta_d |u\\rangle + \\beta_u|d\\rangle)\\\\\n",
    "(I \\otimes \\sigma_z) \\left(\\alpha_u\\beta_u |uu\\rangle + \\alpha_u\\beta_d |ud\\rangle +\\alpha_d\\beta_u |du\\rangle +\\alpha_d\\beta_d |dd\\rangle\\right) &= \\alpha_u\\beta_u |uu\\rangle - \\alpha_u\\beta_d |ud\\rangle + \\alpha_d\\beta_u |du\\rangle - \\alpha_d\\beta_d |dd\\rangle\\\\\n",
    "&= (\\alpha_u |u\\rangle + \\alpha_d|d\\rangle)\\otimes (\\beta_u |u\\rangle - \\beta_d|d\\rangle)\\\\\n",
    "\\end{align*}\n",
    "$$"
   ]
  },
  {
   "cell_type": "markdown",
   "metadata": {},
   "source": [
    "The expectation of the operators of a single state are \n",
    "\n",
    "$$\n",
    "\\begin{align*}\n",
    "\\langle \\sigma_x \\rangle &= \\langle \\psi | \\sigma_x |\\psi\\rangle \\\\\n",
    "&= \\left(\\alpha_u^*\\langle u| + \\alpha_d^*\\langle d | \\right) \\sigma_x \\left(\\alpha_u |u\\rangle + \\alpha_d |d \\rangle \\right) \\\\\n",
    "&= \\left(\\alpha_u^*\\langle u| + \\alpha_d^*\\langle d | \\right) \\left(\\alpha_u |d\\rangle + \\alpha_d |u \\rangle \\right) \\\\\n",
    "&= 2\\, \\mathbf{Re}(\\alpha_d^*\\alpha_u) \\\\\n",
    "\\langle \\sigma_y \\rangle &= \\langle \\psi | \\sigma_y |\\psi\\rangle \\\\\n",
    "&= \\left(\\alpha_u^*\\langle u| + \\alpha_d^*\\langle d | \\right) \\sigma_y \\left(\\alpha_u |u\\rangle + \\alpha_d |d \\rangle \\right) \\\\\n",
    "&= \\left(\\alpha_u^*\\langle u| + \\alpha_d^*\\langle d | \\right) \\left(i\\alpha_u |d\\rangle - i \\alpha_d |u \\rangle \\right) \\\\\n",
    "&= -i\\alpha_u^*\\alpha_d + i \\alpha_d^*\\alpha_u \\\\\n",
    "&= 2\\, \\mathbf{Re}(i\\alpha_d^*\\alpha_u) \\\\\n",
    "&= |\\alpha_u|^2 - |\\alpha_d|^2 \\\\\n",
    "\\langle \\sigma_z \\rangle &= \\langle \\psi | \\sigma_z |\\psi\\rangle \\\\\n",
    "&= \\left(\\alpha_u^*\\langle u| + \\alpha_d^*\\langle d | \\right) \\sigma_z \\left(\\alpha_u |u\\rangle + \\alpha_d |d \\rangle \\right) \\\\\n",
    "&= \\left(\\alpha_u^*\\langle u| + \\alpha_d^*\\langle d | \\right) \\left(\\alpha_u |u\\rangle - \\alpha_d |d \\rangle \\right) \\\\\n",
    "&= |\\alpha_u|^2 - |\\alpha_d|^2 \\\\\n",
    "\\end{align*}\n",
    "$$"
   ]
  },
  {
   "cell_type": "markdown",
   "metadata": {},
   "source": [
    "For a product state the expectation of the operators are \n",
    "\n",
    "$$\n",
    "\\begin{align*}\n",
    "\\langle \\sigma_x \\rangle &= \\langle \\psi | \\sigma_x |\\psi\\rangle \\\\\n",
    "&= \\langle \\psi | \\left(\\alpha_d\\beta_u |uu\\rangle + \\alpha_d\\beta_d |ud\\rangle + \\alpha_u\\beta_u |du\\rangle + \\alpha_u\\beta_d |dd\\rangle\\right)\\\\\n",
    "&= \\alpha_u^*\\alpha_d|\\beta_u|^2 + \\alpha_u^*\\alpha_d|\\beta_d|^2 + \\alpha_d^*\\alpha_u|\\beta_u|^2 + \\alpha_d^*\\alpha_u|\\beta_d|^2\\\\\n",
    "&= (\\alpha_u^*\\alpha_d + \\alpha_d^*\\alpha_u)|\\beta_u|^2 + (\\alpha_u^*\\alpha_d+ \\alpha_d^*\\alpha_u)|\\beta_d|^2\\\\\n",
    "&= 2\\mathbf{Re}(\\alpha_u^*\\alpha_d )(|\\beta_u|^2  + |\\beta_d|^2)\\\\\n",
    "&= 2\\mathbf{Re}(\\alpha_u^*\\alpha_d )\n",
    "\\end{align*}\n",
    "$$"
   ]
  },
  {
   "cell_type": "markdown",
   "metadata": {},
   "source": [
    "# Exercise 6.6\n",
    "Assume Charlie has prepared the two spins in the singlet state. This time, Bob measures $\\tau_y$ and Alice measures $\\sigma_x$. What is the expectation of the value of $\\sigma_x\\tau_y$? What does this say about the correlation between the two measurements?"
   ]
  },
  {
   "cell_type": "markdown",
   "metadata": {},
   "source": [
    "## Solution"
   ]
  },
  {
   "cell_type": "code",
   "execution_count": 59,
   "metadata": {},
   "outputs": [],
   "source": [
    "pauli_x = [0 1; 1 0];\n",
    "pauli_y = [0 -im; im 0];\n",
    "pauli_z = [1 0; 0 -1];\n",
    "eye = Matrix(1.0I, 2, 2);"
   ]
  },
  {
   "cell_type": "code",
   "execution_count": 60,
   "metadata": {},
   "outputs": [],
   "source": [
    "sigma_x = kron(pauli_x, eye);\n",
    "sigma_y = kron(pauli_y, eye);\n",
    "sigma_z = kron(pauli_z, eye);\n",
    "\n",
    "tau_x = kron(eye, pauli_x);\n",
    "tau_y = kron(eye, pauli_y);\n",
    "tau_z = kron(eye, pauli_z);"
   ]
  },
  {
   "cell_type": "code",
   "execution_count": 61,
   "metadata": {},
   "outputs": [],
   "source": [
    "up = [1,0];\n",
    "down = [0,1];\n",
    "uu = kron(up, up);\n",
    "ud = kron(up, down);\n",
    "du = kron(down, up);\n",
    "dd = kron(down, down);\n",
    "    \n",
    "sing = 1 / sqrt(2) * (ud - du);"
   ]
  },
  {
   "cell_type": "code",
   "execution_count": 62,
   "metadata": {},
   "outputs": [
    {
     "data": {
      "text/plain": [
       "0.0 + 0.0im"
      ]
     },
     "execution_count": 62,
     "metadata": {},
     "output_type": "execute_result"
    }
   ],
   "source": [
    "expectation_sigma_x_tau_y = sing' * sigma_x * tau_y * sing"
   ]
  },
  {
   "cell_type": "markdown",
   "metadata": {},
   "source": [
    "$$\n",
    "\\begin{align*}\n",
    "\\langle \\sigma_x \\tau_y \\rangle &= \\langle sing | \\sigma_x \\tau_y |sing\\rangle \\\\\n",
    "&= \\langle sing | \\sigma_x \\tau_y \\frac{1}{\\sqrt{2}} \\left(|ud\\rangle - |du\\rangle\\right) \\\\\n",
    "&= \\langle sing | \\sigma_x  \\left[\\frac{1}{\\sqrt{2}} \\left(-i|uu\\rangle - i|dd\\rangle\\right)\\right] \\\\\n",
    "&= \\langle sing | \\left[\\frac{1}{\\sqrt{2}} \\left(-i|du\\rangle - i|ud\\rangle\\right)\\right] \\\\\n",
    "&= \\frac{1}{\\sqrt{2}} \\left(\\langle ud| - \\langle du|\\right) \\left[\\frac{1}{\\sqrt{2}} \\left(-i|du\\rangle - i|ud\\rangle\\right)\\right] \\\\\n",
    "&= \\frac{i}{2} - \\frac{i}{2}\\\\\n",
    "&= 0\n",
    "\\end{align*}\n",
    "$$"
   ]
  },
  {
   "cell_type": "markdown",
   "metadata": {},
   "source": [
    "# Exercise 6.7\n",
    "Next, Charlie prepares the spins in a different state, called $|T_1\\rangle$, where\n",
    "$$|T_1\\rangle = \\frac{1}{\\sqrt{2}}\\left(|ud|\\rangle + |du\\rangle\\right).$$\n",
    "\n",
    "In these examples. $T$ stands for *triplet*. These triplet states are completely different from the states in the coin and die examples. What are the expectation values of the operators $\\sigma_x\\tau_z$, $\\sigma_x\\tau_x$, and $\\sigma_y\\tau_y$?"
   ]
  },
  {
   "cell_type": "markdown",
   "metadata": {},
   "source": [
    "## Solution"
   ]
  },
  {
   "cell_type": "code",
   "execution_count": 63,
   "metadata": {},
   "outputs": [],
   "source": [
    "T1 = 1 / sqrt(2) * (ud + du);"
   ]
  },
  {
   "cell_type": "code",
   "execution_count": 70,
   "metadata": {},
   "outputs": [
    {
     "data": {
      "text/plain": [
       "-0.9999999999999998"
      ]
     },
     "execution_count": 70,
     "metadata": {},
     "output_type": "execute_result"
    }
   ],
   "source": [
    "expectation_sigma_z_tau_z = T1' * sigma_z * tau_z * T1"
   ]
  },
  {
   "cell_type": "code",
   "execution_count": 68,
   "metadata": {},
   "outputs": [
    {
     "data": {
      "text/plain": [
       "0.9999999999999998"
      ]
     },
     "execution_count": 68,
     "metadata": {},
     "output_type": "execute_result"
    }
   ],
   "source": [
    "expectation_sigma_x_tau_x = T1' * sigma_x * tau_x * T1"
   ]
  },
  {
   "cell_type": "code",
   "execution_count": 69,
   "metadata": {},
   "outputs": [
    {
     "data": {
      "text/plain": [
       "0.9999999999999998 + 0.0im"
      ]
     },
     "execution_count": 69,
     "metadata": {},
     "output_type": "execute_result"
    }
   ],
   "source": [
    "expectation_sigma_y_tau_y = T1' * sigma_y * tau_y * T1"
   ]
  },
  {
   "cell_type": "markdown",
   "metadata": {},
   "source": [
    "$$\n",
    "\\begin{align*}\n",
    "\\langle \\sigma_x \\tau_z \\rangle &= \\langle T_1 | \\sigma_z \\tau_z |T_1\\rangle \\\\\n",
    "&= \\langle T_1 | \\sigma_z \\tau_z \\frac{1}{\\sqrt{2}} \\left(|ud\\rangle + |du\\rangle\\right) \\\\\n",
    "&= \\langle T_1 | \\sigma_z  \\left[\\frac{1}{\\sqrt{2}} \\left(-|ud\\rangle + |du\\rangle\\right)\\right] \\\\\n",
    "&= \\langle T_1 | \\left[\\frac{1}{\\sqrt{2}} \\left(-|ud\\rangle - |du\\rangle\\right)\\right] \\\\\n",
    "&= \\frac{1}{\\sqrt{2}} \\left(\\langle ud| + \\langle du|\\right) \\left[\\frac{1}{\\sqrt{2}} \\left(-|ud\\rangle - |du\\rangle\\right)\\right] \\\\\n",
    "&= -\\frac{1}{2} - \\frac{1}{2}\\\\\n",
    "&= -1\n",
    "\\end{align*}\n",
    "$$"
   ]
  },
  {
   "cell_type": "markdown",
   "metadata": {},
   "source": [
    "$$\n",
    "\\begin{align*}\n",
    "\\langle \\sigma_x \\tau_x \\rangle &= \\langle T_1 | \\sigma_x \\tau_x |T_1\\rangle \\\\\n",
    "&= \\langle T_1 | \\sigma_x \\tau_x \\frac{1}{\\sqrt{2}} \\left(|ud\\rangle + |du\\rangle\\right) \\\\\n",
    "&= \\langle T_1 | \\sigma_x  \\left[\\frac{1}{\\sqrt{2}} \\left(|uu\\rangle + |dd\\rangle\\right)\\right] \\\\\n",
    "&= \\langle T_1 | \\left[\\frac{1}{\\sqrt{2}} \\left(|du\\rangle + |ud\\rangle\\right)\\right] \\\\\n",
    "&= \\frac{1}{\\sqrt{2}} \\left(\\langle ud| + \\langle du|\\right) \\left[\\frac{1}{\\sqrt{2}} \\left(|ud\\rangle + |du\\rangle\\right)\\right] \\\\\n",
    "&= \\frac{1}{2} + \\frac{1}{2}\\\\\n",
    "&= 1\n",
    "\\end{align*}\n",
    "$$"
   ]
  },
  {
   "cell_type": "markdown",
   "metadata": {},
   "source": [
    "$$\n",
    "\\begin{align*}\n",
    "\\langle \\sigma_y \\tau_y \\rangle &= \\langle T_1 | \\sigma_y \\tau_y |T_1\\rangle \\\\\n",
    "&= \\langle T_1 | \\sigma_y \\tau_y \\frac{1}{\\sqrt{2}} \\left(|ud\\rangle + |du\\rangle\\right) \\\\\n",
    "&= \\langle T_1 | \\sigma_y  \\left[\\frac{1}{\\sqrt{2}} \\left(-i|uu\\rangle + i|dd\\rangle\\right)\\right] \\\\\n",
    "&= \\langle T_1 | \\left[\\frac{1}{\\sqrt{2}} \\left(|du\\rangle + |ud\\rangle\\right)\\right] \\\\\n",
    "&= \\frac{1}{\\sqrt{2}} \\left(\\langle ud| + \\langle du|\\right) \\left[\\frac{1}{\\sqrt{2}} \\left(|ud\\rangle + |du\\rangle\\right)\\right] \\\\\n",
    "&= \\frac{1}{2} + \\frac{1}{2}\\\\\n",
    "&= 1\n",
    "\\end{align*}\n",
    "$$"
   ]
  },
  {
   "cell_type": "markdown",
   "metadata": {},
   "source": [
    "# Exercise 6.8\n",
    "Do the same for the other two entangled triplet states,\n",
    "\n",
    "$$\n",
    "\\begin{align*}\n",
    "|T_2\\rangle &= \\frac{1}{2}\\left(|uu\\rangle + |dd\\rangle\\right)\\\\\n",
    "|T_3\\rangle &= \\frac{1}{2}\\left(|uu\\rangle - |dd\\rangle\\right)\n",
    "\\end{align*}\n",
    "$$\n",
    "and interpret"
   ]
  },
  {
   "cell_type": "markdown",
   "metadata": {},
   "source": [
    "## Solution"
   ]
  },
  {
   "cell_type": "code",
   "execution_count": 71,
   "metadata": {},
   "outputs": [],
   "source": [
    "T2 = 1 / sqrt(2) * (uu + dd);"
   ]
  },
  {
   "cell_type": "code",
   "execution_count": 72,
   "metadata": {},
   "outputs": [
    {
     "data": {
      "text/plain": [
       "0.9999999999999998"
      ]
     },
     "execution_count": 72,
     "metadata": {},
     "output_type": "execute_result"
    }
   ],
   "source": [
    "expectation_sigma_z_tau_z = T2' * sigma_z * tau_z * T2"
   ]
  },
  {
   "cell_type": "code",
   "execution_count": 73,
   "metadata": {},
   "outputs": [
    {
     "data": {
      "text/plain": [
       "0.9999999999999998"
      ]
     },
     "execution_count": 73,
     "metadata": {},
     "output_type": "execute_result"
    }
   ],
   "source": [
    "expectation_sigma_x_tau_x = T2' * sigma_x * tau_x * T2"
   ]
  },
  {
   "cell_type": "code",
   "execution_count": 74,
   "metadata": {},
   "outputs": [
    {
     "data": {
      "text/plain": [
       "-0.9999999999999998 + 0.0im"
      ]
     },
     "execution_count": 74,
     "metadata": {},
     "output_type": "execute_result"
    }
   ],
   "source": [
    "expectation_sigma_y_tau_y = T2' * sigma_y * tau_y * T2"
   ]
  },
  {
   "cell_type": "code",
   "execution_count": 75,
   "metadata": {},
   "outputs": [],
   "source": [
    "T3 = 1 / sqrt(2) * (uu - dd);"
   ]
  },
  {
   "cell_type": "code",
   "execution_count": 79,
   "metadata": {},
   "outputs": [
    {
     "data": {
      "text/plain": [
       "0.9999999999999998"
      ]
     },
     "execution_count": 79,
     "metadata": {},
     "output_type": "execute_result"
    }
   ],
   "source": [
    "expectation_sigma_z_tau_z = T3' * sigma_z * tau_z * T3"
   ]
  },
  {
   "cell_type": "code",
   "execution_count": 77,
   "metadata": {},
   "outputs": [
    {
     "data": {
      "text/plain": [
       "-0.9999999999999998"
      ]
     },
     "execution_count": 77,
     "metadata": {},
     "output_type": "execute_result"
    }
   ],
   "source": [
    "expectation_sigma_x_tau_x = T3' * sigma_x * tau_x * T3"
   ]
  },
  {
   "cell_type": "code",
   "execution_count": 78,
   "metadata": {},
   "outputs": [
    {
     "data": {
      "text/plain": [
       "0.9999999999999998 + 0.0im"
      ]
     },
     "execution_count": 78,
     "metadata": {},
     "output_type": "execute_result"
    }
   ],
   "source": [
    "expectation_sigma_y_tau_y = T3' * sigma_y * tau_y * T3"
   ]
  },
  {
   "cell_type": "markdown",
   "metadata": {},
   "source": [
    "# Exercise 6.9\n",
    "Prove that the four vectors $|sing\\rangle$, $|T_1\\rangle$, $|T_2\\rangle$, and $|T_3\\rangle$ are eigenvectors of $\\vec{\\sigma}\\cdot\\vec{\\tau}$. What are their eigenvalues?"
   ]
  },
  {
   "cell_type": "markdown",
   "metadata": {},
   "source": [
    "## Solution"
   ]
  },
  {
   "cell_type": "markdown",
   "metadata": {},
   "source": [
    "It's sufficient to evaluate $\\sigma_x \\tau_x$, $\\sigma_y \\tau_y$, and $\\sigma_z \\tau_z$ on each of the vectors and then find their sum"
   ]
  },
  {
   "cell_type": "code",
   "execution_count": 45,
   "metadata": {},
   "outputs": [
    {
     "data": {
      "text/plain": [
       "4×4 Array{Complex{Float64},2}:\n",
       " 1.0+0.0im   0.0+0.0im   0.0+0.0im  0.0+0.0im\n",
       " 0.0+0.0im  -1.0+0.0im   2.0+0.0im  0.0+0.0im\n",
       " 0.0+0.0im   2.0+0.0im  -1.0+0.0im  0.0+0.0im\n",
       " 0.0+0.0im   0.0+0.0im   0.0+0.0im  1.0+0.0im"
      ]
     },
     "execution_count": 45,
     "metadata": {},
     "output_type": "execute_result"
    }
   ],
   "source": [
    "up = [1,0];\n",
    "down = [0,1];\n",
    "uu = kron(up, up);\n",
    "ud = kron(up, down);\n",
    "du = kron(down, up);\n",
    "dd = kron(down, down);\n",
    "    \n",
    "sing = 1 / sqrt(2) * (ud - du);\n",
    "T1 = 1 / sqrt(2) * (ud + du);\n",
    "T2 = 1 / sqrt(2) * (uu + dd);\n",
    "T3 = 1 / sqrt(2) * (uu - dd);\n",
    "\n",
    "sigma_tau = sigma_x * tau_x + sigma_y * tau_y + sigma_z * tau_z;"
   ]
  },
  {
   "cell_type": "code",
   "execution_count": 53,
   "metadata": {},
   "outputs": [
    {
     "data": {
      "text/plain": [
       "-2.9999999999999996 + 0.0im"
      ]
     },
     "execution_count": 53,
     "metadata": {},
     "output_type": "execute_result"
    }
   ],
   "source": [
    "rhs_sing = sigma_tau * sing\n",
    "\n",
    "dot_product = rhs_sing' * sing \n",
    "angle = acos(dot_product/ (norm(rhs_sing) * norm(sing)))\n",
    "\n",
    "eigval_sing = dot_product"
   ]
  },
  {
   "cell_type": "code",
   "execution_count": 54,
   "metadata": {},
   "outputs": [
    {
     "data": {
      "text/plain": [
       "0.9999999999999998 + 0.0im"
      ]
     },
     "execution_count": 54,
     "metadata": {},
     "output_type": "execute_result"
    }
   ],
   "source": [
    "rhs_t1 = sigma_tau * T1\n",
    "\n",
    "dot_product = rhs_t1' * T1 \n",
    "angle = acos(dot_product/ (norm(rhs_t1) * norm(T1)))\n",
    "\n",
    "eigval_t1 = dot_product"
   ]
  },
  {
   "cell_type": "code",
   "execution_count": 55,
   "metadata": {},
   "outputs": [
    {
     "data": {
      "text/plain": [
       "0.9999999999999998 + 0.0im"
      ]
     },
     "execution_count": 55,
     "metadata": {},
     "output_type": "execute_result"
    }
   ],
   "source": [
    "rhs_t2 = sigma_tau * T2\n",
    "\n",
    "dot_product = rhs_t2' * T2 \n",
    "angle = acos(dot_product/ (norm(rhs_t2) * norm(T2)))\n",
    "\n",
    "eigval_t2 = dot_product"
   ]
  },
  {
   "cell_type": "code",
   "execution_count": 58,
   "metadata": {},
   "outputs": [
    {
     "data": {
      "text/plain": [
       "0.9999999999999998 + 0.0im"
      ]
     },
     "execution_count": 58,
     "metadata": {},
     "output_type": "execute_result"
    }
   ],
   "source": [
    "rhs_t3 = sigma_tau * T3\n",
    "\n",
    "dot_product = rhs_t3' * T3 \n",
    "angle = acos(dot_product/ (norm(rhs_t3) * norm(T3)))\n",
    "\n",
    "eigval_t3 = dot_product"
   ]
  },
  {
   "cell_type": "markdown",
   "metadata": {},
   "source": [
    "So the eigenvalues of $|sing\\rangle$, $|T_1\\rangle$, $|T_2\\rangle$, and $|T_3\\rangle$  are -3, 1, 1, and 1"
   ]
  },
  {
   "cell_type": "markdown",
   "metadata": {},
   "source": [
    "# Exercise 6.10\n",
    "A system of two spins has the Hamiltonian\n",
    "$$\\mathbf{H} = \\frac{\\omega}{2}\\vec{\\sigma}\\cdot \\vec{\\tau}.$$\n",
    "What are the possible energies of the system, and what are the eigenvectors of the Hamiltonian? Suppose the system starts in state $|uu\\rangle$. What is the state at any later time? What about $|ud\\rangle, |du\\rangle$, and $|dd\\rangle$"
   ]
  },
  {
   "cell_type": "markdown",
   "metadata": {},
   "source": [
    "## Solution"
   ]
  },
  {
   "cell_type": "markdown",
   "metadata": {},
   "source": [
    "The system can have energies -3 and 1 with eigenvectors $|sing\\rangle$, $|T_1\\rangle$, $|T_2\\rangle$, and $|T_3\\rangle$. "
   ]
  }
 ],
 "metadata": {
  "kernelspec": {
   "display_name": "Julia 1.3.1",
   "language": "julia",
   "name": "julia-1.3"
  },
  "language_info": {
   "file_extension": ".jl",
   "mimetype": "application/julia",
   "name": "julia",
   "version": "1.3.1"
  }
 },
 "nbformat": 4,
 "nbformat_minor": 4
}
