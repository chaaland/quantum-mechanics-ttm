{
 "cells": [
  {
   "cell_type": "markdown",
   "metadata": {},
   "source": [
    "# Exercise 6.1 \n",
    "Prove that if $P(a,b)$ factorises, then the correlation between $a$ and $b$ is zero."
   ]
  },
  {
   "cell_type": "markdown",
   "metadata": {},
   "source": [
    "## Solution"
   ]
  },
  {
   "cell_type": "markdown",
   "metadata": {},
   "source": [
    "The covariance is given by \n",
    "\n",
    "$$\n",
    "\\begin{align*}\n",
    "\\mathbf{cov}(X,Y) &= \\sum_{x,y} (x-\\mu_x)(y-\\mu_y)P(x,y)\\\\\n",
    "&= \\sum_{x,y} \\left(xy - y\\mu_x - x \\mu_y + \\mu_x\\mu_y\\right)P(x,y)\\\\\n",
    "&= \\left(\\sum_{x,y} xyP(x,y)\\right) - \\mu_x\\mu_y\\\\\n",
    "&= \\left(\\sum_{x,y} xyP(x)P(y)\\right) - \\mu_x\\mu_y\\\\\n",
    "&= \\sum_x xP(x) \\sum_y yP(y) - \\mu_x\\mu_y\\\\\n",
    "&= \\mu_x\\mu_y - \\mu_x\\mu_y\\\\\n",
    "&= 0\n",
    "\\end{align*}\n",
    "$$"
   ]
  },
  {
   "cell_type": "markdown",
   "metadata": {},
   "source": [
    "# Exercise 6.2\n",
    "Show that if the two normalisation conditions\n",
    "\n",
    "$$\n",
    "\\alpha_u^*\\alpha_u+\\alpha_d^*\\alpha_d=1\\\\\n",
    "\\beta_u^*\\beta_u+\\beta_d^*\\beta_d=1\n",
    "$$\n",
    "\n",
    "are satisfied, then the state-vector of \n",
    "\n",
    "$$\\alpha_u\\beta_u |uu\\rangle + \\alpha_u\\beta_d |ud\\rangle +\\alpha_d\\beta_u |du\\rangle +\\alpha_d\\beta_d |dd\\rangle$$\n",
    "\n",
    "is automatically normalised as well. In other words, show that for this product state, normalising the overall state-vector does not put any additional constraints on the $\\alpha$'s and $\\beta$'s."
   ]
  },
  {
   "cell_type": "markdown",
   "metadata": {},
   "source": [
    "## Solution"
   ]
  },
  {
   "cell_type": "markdown",
   "metadata": {},
   "source": [
    "Since the basis vectors $\\langle uu|, \\langle ud|,\\langle du|,\\langle dd|$ are mutually orthogonal, the the norm of the state vector is given by\n",
    "\n",
    "$$\n",
    "\\begin{align*}\n",
    "\\langle x| x \\rangle &= \\left(\\alpha^*_u\\beta^*_u \\langle uu| + \\alpha^*_u\\beta^*_d \\langle ud | +\\alpha^*_d\\beta^*_u \\langle du| +\\alpha^*_d\\beta^*_d \\langle dd|\\right) \\left(\\alpha_u\\beta_u |uu\\rangle + \\alpha_u\\beta_d |ud\\rangle +\\alpha_d\\beta_u |du\\rangle +\\alpha_d\\beta_d |dd\\rangle\\right)\\\\\n",
    "&= \\alpha^*_u\\alpha_u \\beta^*_u \\beta_u + \\alpha^*_u\\alpha_u\\beta^*_d \\beta_d + \\alpha^*_d\\alpha_d\\beta^*_u\\beta_u +\\alpha^*_d\\alpha_d\\beta^*_d \\beta_d\\\\\n",
    "&= \\alpha^*_u\\alpha_u \\left(\\beta^*_u \\beta_u + \\beta^*_d \\beta_d\\right) + \\alpha^*_d\\alpha_d\\left(\\beta^*_u\\beta_u +\\beta^*_d \\beta_d\\right)\\\\\n",
    "&= \\alpha^*_u\\alpha_u + \\alpha^*_d\\alpha_d\\\\\n",
    "&= 1\\\\\n",
    "\\end{align*}\n",
    "$$\n"
   ]
  },
  {
   "cell_type": "markdown",
   "metadata": {},
   "source": [
    "# Exercise 6.3\n",
    "Prove that the state $|sing\\rangle = \\frac{1}{\\sqrt{2}} \\left(|ud\\rangle - |du\\rangle\\right)$ cannot be written as a product state."
   ]
  },
  {
   "cell_type": "markdown",
   "metadata": {},
   "source": [
    "## Solution"
   ]
  },
  {
   "cell_type": "markdown",
   "metadata": {},
   "source": [
    "If this state is to be written as a product state then\n",
    "\n",
    "$$\n",
    "\\begin{align*}\n",
    "\\alpha_u \\beta_u &= 0\\\\\n",
    "\\alpha_u \\beta_d &= \\frac{1}{\\sqrt{2}}\\\\\n",
    "\\alpha_d \\beta_u &= -\\frac{1}{\\sqrt{2}}\\\\\n",
    "\\alpha_d \\beta_d &= 0\\\\\n",
    "\\end{align*}\n",
    "$$\n",
    "\n",
    "The first equation implies either $\\alpha_u=0$, $\\beta_u=0$, or both. The last equation implies $\\alpha_d=0$, $\\beta_d=0$, or both. If $\\alpha_u=0$, then equation 2 cannot hold. If $\\beta_u=0$, equation 3 cannot hold. If $\\alpha_d=0$, equation 3 cannot hold. If $\\beta_d=0$, then equation 2 cannot hold. This means the system of equations has no solution and therefore the state is not a product state."
   ]
  },
  {
   "cell_type": "markdown",
   "metadata": {},
   "source": [
    "# Exercise 6.4\n",
    "Use the matrix forms of $\\sigma_z$, $\\sigma_x$, and $\\sigma_y$ and the column vectors for $|u\\}$ and $|d\\}$ to verify \n",
    "$$math$$\n",
    "Then, use Eqs. 6.6 and 6.7 to write the equations that were left out of Eqs. 6.8. Use the appendix to check your answers."
   ]
  },
  {
   "cell_type": "markdown",
   "metadata": {},
   "source": [
    "## Solution"
   ]
  },
  {
   "cell_type": "markdown",
   "metadata": {},
   "source": [
    "Skip. A bunch of banal identity lookups"
   ]
  },
  {
   "cell_type": "markdown",
   "metadata": {},
   "source": [
    "# Exercise 6.5\n",
    "Prove the following theorem:\n",
    "\n",
    "When any one of Alice's or Bob's spin operators acts on a product state, the result is still a product state.\n",
    "\n",
    "Show that in a product state, the expectation value of any component of $\\vec{\\sigma}$ or $\\vec{\\tau}$ is exactly the same as it would be in the invididual single-spin states."
   ]
  },
  {
   "cell_type": "markdown",
   "metadata": {},
   "source": [
    "## Solution"
   ]
  },
  {
   "cell_type": "markdown",
   "metadata": {},
   "source": [
    "For Alice's spin operators we have\n",
    "$$\n",
    "\\begin{align*}\n",
    "(\\sigma_x \\otimes I ) \\left(\\alpha_u\\beta_u |uu\\rangle + \\alpha_u\\beta_d |ud\\rangle +\\alpha_d\\beta_u |du\\rangle +\\alpha_d\\beta_d |dd\\rangle\\right) &= \\alpha_d\\beta_u |uu\\rangle + \\alpha_d\\beta_d |ud\\rangle + \\alpha_u\\beta_u |du\\rangle + \\alpha_u\\beta_d |dd\\rangle\\\\\n",
    "&= (\\alpha_d |u\\rangle + \\alpha_u|d\\rangle)\\otimes (\\beta_u |u\\rangle + \\beta_d|d\\rangle)\\\\\n",
    "(\\sigma_y \\otimes I ) \\left(\\alpha_u\\beta_u |uu\\rangle + \\alpha_u\\beta_d |ud\\rangle +\\alpha_d\\beta_u |du\\rangle +\\alpha_d\\beta_d |dd\\rangle\\right) &= -i\\alpha_d\\beta_u |uu\\rangle - i\\alpha_d\\beta_d |ud\\rangle + i \\alpha_u\\beta_u |du\\rangle + i\\alpha_u\\beta_d |dd\\rangle\\\\\n",
    "&= (-i\\alpha_d |u\\rangle + i\\alpha_u|d\\rangle)\\otimes (\\beta_u |u\\rangle + \\beta_d|d\\rangle)\\\\\n",
    "(\\sigma_z \\otimes I ) \\left(\\alpha_u\\beta_u |uu\\rangle + \\alpha_u\\beta_d |ud\\rangle +\\alpha_d\\beta_u |du\\rangle +\\alpha_d\\beta_d |dd\\rangle\\right) &= \\alpha_u\\beta_u |uu\\rangle + \\alpha_u\\beta_d |ud\\rangle - \\alpha_d\\beta_u |du\\rangle - \\alpha_d\\beta_d |dd\\rangle\\\\\n",
    "&= (\\alpha_u |u\\rangle - \\alpha_d|d\\rangle)\\otimes (\\beta_u |u\\rangle + \\beta_d|d\\rangle)\\\\\n",
    "\\end{align*}\n",
    "$$"
   ]
  },
  {
   "cell_type": "markdown",
   "metadata": {},
   "source": [
    "For Bob's spin operators we have\n",
    "$$\n",
    "\\begin{align*}\n",
    "(I \\otimes \\sigma_x) \\left(\\alpha_u\\beta_u |uu\\rangle + \\alpha_u\\beta_d |ud\\rangle +\\alpha_d\\beta_u |du\\rangle +\\alpha_d\\beta_d |dd\\rangle\\right) &= \\alpha_u\\beta_d |uu\\rangle + \\alpha_u\\beta_u |ud\\rangle + \\alpha_d\\beta_d |du\\rangle + \\alpha_d\\beta_u |dd\\rangle\\\\\n",
    "&= (\\alpha_d |u\\rangle + \\alpha_u|d\\rangle)\\otimes (\\beta_d |u\\rangle + \\beta_u|d\\rangle)\\\\\n",
    "(I \\otimes \\sigma_y) \\left(\\alpha_u\\beta_u |uu\\rangle + \\alpha_u\\beta_d |ud\\rangle +\\alpha_d\\beta_u |du\\rangle +\\alpha_d\\beta_d |dd\\rangle\\right) &= -i\\alpha_u\\beta_d |uu\\rangle + i\\alpha_u\\beta_u |ud\\rangle - i \\alpha_d\\beta_d |du\\rangle + i\\alpha_u\\beta_d |dd\\rangle\\\\\n",
    "&= (\\alpha_u |u\\rangle + \\alpha_d|d\\rangle)\\otimes (-i\\beta_d |u\\rangle + \\beta_u|d\\rangle)\\\\\n",
    "(I \\otimes \\sigma_z) \\left(\\alpha_u\\beta_u |uu\\rangle + \\alpha_u\\beta_d |ud\\rangle +\\alpha_d\\beta_u |du\\rangle +\\alpha_d\\beta_d |dd\\rangle\\right) &= \\alpha_u\\beta_u |uu\\rangle - \\alpha_u\\beta_d |ud\\rangle + \\alpha_d\\beta_u |du\\rangle - \\alpha_d\\beta_d |dd\\rangle\\\\\n",
    "&= (\\alpha_u |u\\rangle + \\alpha_d|d\\rangle)\\otimes (\\beta_u |u\\rangle - \\beta_d|d\\rangle)\\\\\n",
    "\\end{align*}\n",
    "$$"
   ]
  },
  {
   "cell_type": "markdown",
   "metadata": {},
   "source": [
    "The expectation of the operators of a single state are \n",
    "\n",
    "$$\n",
    "\\begin{align*}\n",
    "\\langle \\sigma_x \\rangle &= \\langle \\psi | \\sigma_x |\\psi\\rangle \\\\\n",
    "&= \\left(\\alpha_u^*\\langle u| + \\alpha_d^*\\langle d | \\right) \\sigma_x \\left(\\alpha_u |u\\rangle + \\alpha_d |d \\rangle \\right) \\\\\n",
    "&= \\left(\\alpha_u^*\\langle u| + \\alpha_d^*\\langle d | \\right) \\left(\\alpha_u |d\\rangle + \\alpha_d |u \\rangle \\right) \\\\\n",
    "&= 2\\, \\mathbf{Re}(\\alpha_d^*\\alpha_u) \\\\\n",
    "\\langle \\sigma_y \\rangle &= \\langle \\psi | \\sigma_y |\\psi\\rangle \\\\\n",
    "&= \\left(\\alpha_u^*\\langle u| + \\alpha_d^*\\langle d | \\right) \\sigma_y \\left(\\alpha_u |u\\rangle + \\alpha_d |d \\rangle \\right) \\\\\n",
    "&= \\left(\\alpha_u^*\\langle u| + \\alpha_d^*\\langle d | \\right) \\left(i\\alpha_u |d\\rangle - i \\alpha_d |u \\rangle \\right) \\\\\n",
    "&= -i\\alpha_u^*\\alpha_d + i \\alpha_d^*\\alpha_u \\\\\n",
    "&= 2\\, \\mathbf{Re}(i\\alpha_d^*\\alpha_u) \\\\\n",
    "&= |\\alpha_u|^2 - |\\alpha_d|^2 \\\\\n",
    "\\langle \\sigma_z \\rangle &= \\langle \\psi | \\sigma_z |\\psi\\rangle \\\\\n",
    "&= \\left(\\alpha_u^*\\langle u| + \\alpha_d^*\\langle d | \\right) \\sigma_z \\left(\\alpha_u |u\\rangle + \\alpha_d |d \\rangle \\right) \\\\\n",
    "&= \\left(\\alpha_u^*\\langle u| + \\alpha_d^*\\langle d | \\right) \\left(\\alpha_u |u\\rangle - \\alpha_d |d \\rangle \\right) \\\\\n",
    "&= |\\alpha_u|^2 - |\\alpha_d|^2 \\\\\n",
    "\\end{align*}\n",
    "$$"
   ]
  },
  {
   "cell_type": "markdown",
   "metadata": {},
   "source": [
    "For a product state the expectation of the operators are \n",
    "\n",
    "$$\n",
    "\\begin{align*}\n",
    "\\langle \\sigma_x \\rangle &= \\langle \\psi | \\sigma_x |\\psi\\rangle \\\\\n",
    "&= \\langle \\psi | \\left(\\alpha_d\\beta_u |uu\\rangle + \\alpha_d\\beta_d |ud\\rangle + \\alpha_u\\beta_u |du\\rangle + \\alpha_u\\beta_d |dd\\rangle\\right)\\\\\n",
    "&= \\alpha_u^*\\alpha_d|\\beta_u|^2 + \\alpha_u^*\\alpha_d|\\beta_d|^2 + \\alpha_d^*\\alpha_u|\\beta_u|^2 + \\alpha_d^*\\alpha_u|\\beta_d|^2\\\\\n",
    "&= (\\alpha_u^*\\alpha_d + \\alpha_d^*\\alpha_u)|\\beta_u|^2 + (\\alpha_u^*\\alpha_d+ \\alpha_d^*\\alpha_u)|\\beta_d|^2\\\\\n",
    "&= 2\\mathbf{Re}(\\alpha_u^*\\alpha_d )(|\\beta_u|^2  + |\\beta_d|^2)\\\\\n",
    "&= 2\\mathbf{Re}(\\alpha_u^*\\alpha_d )\n",
    "\\end{align*}\n",
    "$$"
   ]
  },
  {
   "cell_type": "markdown",
   "metadata": {},
   "source": [
    "# Exercise 6.6\n",
    "Assume Charlie has prepared the two spins in the singlet state. This time, Bob measures $\\tau_y$ and Alice measures $\\sigma_x$. What is the expectation of the value of $\\sigma_x\\tau_y$? What does this say about the correlation between the two measurements?"
   ]
  },
  {
   "cell_type": "markdown",
   "metadata": {},
   "source": [
    "## Solution"
   ]
  },
  {
   "cell_type": "markdown",
   "metadata": {},
   "source": [
    "$$\n",
    "\\begin{align*}\n",
    "\\langle \\sigma_x \\tau_y \\rangle &= \\langle sing | \\sigma_x \\tau_z |sing\\rangle \\\\\n",
    "&= \\langle sing | \\sigma_x \\tau_y \\frac{1}{\\sqrt{2}} \\left(|ud\\rangle - |du\\rangle\\right) \\\\\n",
    "&= \\langle sing | \\sigma_x  \\left[\\frac{1}{\\sqrt{2}} \\left(-i|uu\\rangle - i|dd\\rangle\\right)\\right] \\\\\n",
    "&= \\langle sing | \\left[\\frac{1}{\\sqrt{2}} \\left(-i|du\\rangle - i|ud\\rangle\\right)\\right] \\\\\n",
    "&= \\frac{1}{\\sqrt{2}} \\left(\\langle ud| - \\langle du|\\right) \\left[\\frac{1}{\\sqrt{2}} \\left(-i|du\\rangle - i|ud\\rangle\\right)\\right] \\\\\n",
    "&= \\frac{i}{2} - \\frac{i}{2}\\\\\n",
    "&= 0\n",
    "\\end{align*}\n",
    "$$"
   ]
  },
  {
   "cell_type": "markdown",
   "metadata": {},
   "source": [
    "# Exercise 6.7\n",
    "Next, Charlie prepares the spins in a different state, called $|T_1\\rangle$, where\n",
    "$$|T_1\\rangle = \\frac{1}{\\sqrt{2}}\\left(|ud|\\rangle + |du\\rangle\\right).$$\n",
    "\n",
    "In these examples. $T$ stands for *triplet*. These triplet states are completely different from the states in the coin and die examples. What are the expectation values of the operators $\\sigma_x\\tau_z$, $\\sigma_x\\tau_x$, and $\\sigma_y\\tau_y$?"
   ]
  },
  {
   "cell_type": "markdown",
   "metadata": {},
   "source": [
    "$$\n",
    "\\begin{align*}\n",
    "\\langle \\sigma_x \\tau_y \\rangle &= \\langle T_1 | \\sigma_x \\tau_z |T_1\\rangle \\\\\n",
    "&= \\langle T_1 | \\sigma_x \\tau_z \\frac{1}{\\sqrt{2}} \\left(|ud\\rangle + |du\\rangle\\right) \\\\\n",
    "&= \\langle T_1 | \\sigma_x  \\left[\\frac{1}{\\sqrt{2}} \\left(-|ud\\rangle + |du\\rangle\\right)\\right] \\\\\n",
    "&= \\langle T_1 | \\left[\\frac{1}{\\sqrt{2}} \\left(-|ud\\rangle - |du\\rangle\\right)\\right] \\\\\n",
    "&= \\frac{1}{\\sqrt{2}} \\left(\\langle ud| + \\langle du|\\right) \\left[\\frac{1}{\\sqrt{2}} \\left(-|ud\\rangle - |du\\rangle\\right)\\right] \\\\\n",
    "&= -\\frac{1}{2} - \\frac{1}{2}\\\\\n",
    "&= -1\n",
    "\\end{align*}\n",
    "$$"
   ]
  },
  {
   "cell_type": "markdown",
   "metadata": {},
   "source": [
    "# Exercise 6.8\n",
    "Do the same for the other two entangled triplet states,\n",
    "\n",
    "$$\n",
    "\\begin{align*}\n",
    "|T_2\\rangle &= \\frac{1}{2}\\left(|uu\\rangle + |dd\\rangle\\right)\\\\\n",
    "|T_3\\rangle &= \\frac{1}{2}\\left(|uu\\rangle - |dd\\rangle\\right)\n",
    "\\end{align*}\n",
    "$$\n",
    "and interpret"
   ]
  },
  {
   "cell_type": "code",
   "execution_count": null,
   "metadata": {},
   "outputs": [],
   "source": []
  },
  {
   "cell_type": "markdown",
   "metadata": {},
   "source": [
    "# Exercise 6.9\n",
    "Prove that the four vectors $|sing\\rangle$, $|T_1\\rangle$, $|T_2\\rangle$, and $|T_3\\rangle$ are eigenvectors of $\\vec{\\sigma}\\cdot\\vec{\\tau}$. What are their eigenvalues?"
   ]
  },
  {
   "cell_type": "code",
   "execution_count": null,
   "metadata": {},
   "outputs": [],
   "source": []
  },
  {
   "cell_type": "markdown",
   "metadata": {},
   "source": [
    "# Exercise 6.10\n",
    "A system of two spins has the Hamiltonian\n",
    "$$\\mathbf{H} = \\frac{\\omega}{2}\\vec{\\sigma}\\cdot \\vec{\\tau}.$$\n",
    "What are the possible emergies of the system, an what are the eigenvectors of the Hamiltonian? Suppose the system starts in state $|uu\\rangle$. What is the state at any later time? What about $|ud\\rangle, |du\\rangle$, and $|dd\\rangle$"
   ]
  },
  {
   "cell_type": "code",
   "execution_count": null,
   "metadata": {},
   "outputs": [],
   "source": []
  }
 ],
 "metadata": {
  "kernelspec": {
   "display_name": "Python 3",
   "language": "python",
   "name": "python3"
  },
  "language_info": {
   "codemirror_mode": {
    "name": "ipython",
    "version": 3
   },
   "file_extension": ".py",
   "mimetype": "text/x-python",
   "name": "python",
   "nbconvert_exporter": "python",
   "pygments_lexer": "ipython3",
   "version": "3.7.5"
  }
 },
 "nbformat": 4,
 "nbformat_minor": 4
}
