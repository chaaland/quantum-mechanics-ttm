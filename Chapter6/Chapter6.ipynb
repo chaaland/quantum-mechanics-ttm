{
 "cells": [
  {
   "cell_type": "markdown",
   "metadata": {},
   "source": [
    "# Exercise 6.1 \n",
    "Prove that if $P(a,b)$ factorises, then the correlation between $a$ and $b$ is zero."
   ]
  },
  {
   "cell_type": "markdown",
   "metadata": {},
   "source": [
    "## Solution"
   ]
  },
  {
   "cell_type": "markdown",
   "metadata": {},
   "source": [
    "# Exercise 6.2\n",
    "Show that if the two normalisation condidations \n",
    "$$math$$\n",
    "are satisfied, then the state-vector of \n",
    "$$\\alpha_u\\beta_u |uu\\rangle + \\alpha_u\\beta_d |ud\\rangle +\\alpha_d\\beta_u |du\\rangle +\\alpha_d\\beta_d |dd\\rangle.$$\n",
    "is automatically normalised as well. In other words, show that for this product state, normalising the overall state-vector does not put any additional constraints on the $\\alpha$'s and $\\beta$'s."
   ]
  },
  {
   "cell_type": "markdown",
   "metadata": {},
   "source": [
    "## Solution"
   ]
  },
  {
   "cell_type": "markdown",
   "metadata": {},
   "source": [
    "# Exercise 6.3\n",
    "Prove that the state $|sing\\rangle = \\frac{1}{\\sqrt{2}} \\left(|ud\\rangle - |du\\rangle\\right)$ cannot be written as a product state."
   ]
  },
  {
   "cell_type": "markdown",
   "metadata": {},
   "source": [
    "## Solution"
   ]
  },
  {
   "cell_type": "markdown",
   "metadata": {},
   "source": [
    "# Exercise 6.4\n",
    "Use the matrix forms of $\\sigma_z$, $\\sigma_x$, and $\\sigma_y$ and the column vectors for $|u\\}$ and $|d\\}$ to verify \n",
    "$$math$$\n",
    "Then, use Eqs. 6.6 and 6.7 to write the equations that were left out of Eqs. 6.8. Use the appendix to check your answers."
   ]
  },
  {
   "cell_type": "markdown",
   "metadata": {},
   "source": [
    "## Solution"
   ]
  },
  {
   "cell_type": "markdown",
   "metadata": {},
   "source": [
    "# Exercise 6.5\n",
    "Prove the following theorem:\n",
    "\n",
    "When any one of Alice's or Bob's spin operators acts on a product state, the result is still a product state.\n",
    "\n",
    "Show that in a prodcut state, the expectation value of any component of $\\vec{\\sigma}$ or $\\vec{\\tau}$ is exactly the same as it would be in the invididual single-spin states."
   ]
  },
  {
   "cell_type": "markdown",
   "metadata": {},
   "source": [
    "## Solution"
   ]
  },
  {
   "cell_type": "markdown",
   "metadata": {},
   "source": [
    "# Exercise 6.6\n",
    "Assume Charlie has prepared the two spins in the singlet state. This time, Bob measures $\\tau_y$ and Alice measures $\\sigma_x$. What is the expectation of the value of $\\sigma_x\\tau_y$? What does this say about the correlation between the two measurements?"
   ]
  },
  {
   "cell_type": "code",
   "execution_count": null,
   "metadata": {},
   "outputs": [],
   "source": []
  },
  {
   "cell_type": "markdown",
   "metadata": {},
   "source": [
    "# Exercise 6.7\n",
    "Next, Charlie prepares the spins in a different state, called $|T_1\\rangle$, where\n",
    "$$|T_1\\rangle = \\frac{1}{\\sqrt{2}}\\left(|ud|\\rangle + |du\\rangle\\right).$$\n",
    "\n",
    "In these examples. $T$ stands for *triplet*. These triplet states are completely different from the states in the coin and die examples. What are the expetation values of the operators $\\sigma_x\\tau_z$, $\\sigma_x\\tau_x$, and $\\sigma_y\\tau_y$?"
   ]
  },
  {
   "cell_type": "code",
   "execution_count": null,
   "metadata": {},
   "outputs": [],
   "source": []
  },
  {
   "cell_type": "markdown",
   "metadata": {},
   "source": [
    "# Exercise 6.8\n",
    "Do the same for the other two entangled triplet states,\n",
    "\n",
    "$$\n",
    "\\begin{align*}\n",
    "|T_2\\rangle &= \\frac{1}{2}\\left(|uu\\rangle + |dd\\rangle\\right)\\\\\n",
    "|T_3\\rangle &= \\frac{1}{2}\\left(|uu\\rangle - |dd\\rangle\\right)\n",
    "\\end{align*}\n",
    "$$\n",
    "and interpret"
   ]
  },
  {
   "cell_type": "code",
   "execution_count": null,
   "metadata": {},
   "outputs": [],
   "source": []
  },
  {
   "cell_type": "markdown",
   "metadata": {},
   "source": [
    "# Exercise 6.9\n",
    "Prove that the four vectors $|sing\\rangle$, $|T_1\\rangle$, $|T_2\\rangle$, and $|T_3\\rangle$ are eigenvector of $\\vec{\\sigma}\\cdot\\vec{\\tau}$. What are their eigenvalues?"
   ]
  },
  {
   "cell_type": "code",
   "execution_count": null,
   "metadata": {},
   "outputs": [],
   "source": []
  },
  {
   "cell_type": "markdown",
   "metadata": {},
   "source": [
    "# Exercise 6.10\n",
    "A system of two spins has the Hamiltonian\n",
    "$$\\mathbf{H} = \\frac{\\omega}{2}\\vec{\\sigma}\\cdot \\vec{\\tau}.$$"
   ]
  },
  {
   "cell_type": "code",
   "execution_count": null,
   "metadata": {},
   "outputs": [],
   "source": []
  }
 ],
 "metadata": {
  "kernelspec": {
   "display_name": "Python 3",
   "language": "python",
   "name": "python3"
  },
  "language_info": {
   "codemirror_mode": {
    "name": "ipython",
    "version": 3
   },
   "file_extension": ".py",
   "mimetype": "text/x-python",
   "name": "python",
   "nbconvert_exporter": "python",
   "pygments_lexer": "ipython3",
   "version": "3.7.5"
  }
 },
 "nbformat": 4,
 "nbformat_minor": 4
}
