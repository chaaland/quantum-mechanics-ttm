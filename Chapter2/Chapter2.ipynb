{
 "cells": [
  {
   "cell_type": "markdown",
   "metadata": {},
   "source": [
    "# Exercise 2.1\n",
    "\n",
    "Prove that the vector $|r\\rangle$ in Eq 2.5 is orthogonal to vector $|l\\rangle$ in Eq 2.6"
   ]
  },
  {
   "cell_type": "markdown",
   "metadata": {},
   "source": [
    "## Solution\n",
    "\n",
    "Given the definition of $|r\\rangle$ and $|l\\rangle$\n",
    "\n",
    "$$\n",
    "\\begin{align*}\n",
    "|r\\rangle & = \\frac{1}{\\sqrt{2}}|u\\rangle + \\frac{1}{\\sqrt{2}}|d\\rangle\\\\\n",
    "|l\\rangle & = \\frac{1}{\\sqrt{2}}|u\\rangle - \\frac{1}{\\sqrt{2}}|d\\rangle \n",
    "\\end{align*}\n",
    "$$\n",
    "\n",
    "we can compute the inner product\n",
    "$$\n",
    "\\begin{align*}\n",
    "\\langle r|l\\rangle &= \\left(\\frac{1}{\\sqrt{2}}\\langle u| + \\frac{1}{\\sqrt{2}}\\langle d|\\right)\\left(\\frac{1}{\\sqrt{2}}|u\\rangle - \\frac{1}{\\sqrt{2}}|d\\rangle \\right)\\\\\n",
    "&= \\frac{1}{2}\\langle u|u\\rangle + \\frac{1}{2}\\langle d|u\\rangle - \\frac{1}{2}\\langle u|d\\rangle -\\frac{1}{2}\\langle d|d\\rangle\\\\\n",
    "&= 0\n",
    "\\end{align*}\n",
    "$$"
   ]
  },
  {
   "cell_type": "markdown",
   "metadata": {},
   "source": [
    "# Exercise 2.2\n",
    "\n",
    "Prove that $|i\\rangle$ and $|o\\rangle$ satisfy all of the conditions in Eqs. 2.7, 2.8, and 2.9. Are they unique in this respect?"
   ]
  },
  {
   "cell_type": "markdown",
   "metadata": {},
   "source": [
    "Given the definitions of $|i\\rangle$ and $|o\\rangle$\n",
    "\n",
    "$$\n",
    "\\begin{align*}\n",
    "|i\\rangle &= \\frac{1}{\\sqrt{2}} |u\\rangle + \\frac{i}{\\sqrt{2}} |d\\rangle\\\\\n",
    "|o\\rangle &= \\frac{1}{\\sqrt{2}} |u\\rangle - \\frac{i}{\\sqrt{2}} |d\\rangle\n",
    "\\end{align*}\n",
    "$$\n",
    "\n",
    "we can easily verify they are orthogonal (Eq 2.7)\n",
    "\n",
    "$$\n",
    "\\begin{align*}\n",
    "\\langle i |o\\rangle &= \\left(\\frac{1}{\\sqrt{2}} \\langle u| + \\frac{-i}{\\sqrt{2}} \\langle d|\\right)\\left(\\frac{1}{\\sqrt{2}} | u\\rangle - \\frac{i}{\\sqrt{2}}  |d\\rangle \\right)\\\\\n",
    "&= \\frac{1}{2} \\langle u|u \\rangle + \\frac{-i}{2} \\langle d|u\\rangle + \\frac{-i}{2} \\langle u|d\\rangle + \\frac{i^2}{2} \\langle d|d \\rangle\\\\\n",
    "&= \\frac{1}{2} \\langle u|u \\rangle - \\frac{1}{2} \\langle d|d \\rangle\\\\\n",
    "&= 0\\\\\n",
    "\\end{align*}\n",
    "$$\n"
   ]
  },
  {
   "cell_type": "markdown",
   "metadata": {},
   "source": [
    "Eq 2.8 say that magnitude squared of the inner product with $|u\\rangle$ or $|d\\rangle$ is $1/2$\n",
    "\n",
    "$$\n",
    "\\begin{align*}\n",
    "|\\langle u |i \\rangle |^2 &= \\left|\\langle u| \\left(\\frac{1}{\\sqrt{2}} |u\\rangle + \\frac{i}{\\sqrt{2}}|d\\rangle\\right)\\right|^2\\\\\n",
    "&= \\left|\\frac{1}{\\sqrt{2}}\\langle u|u\\rangle + \\frac{i}{\\sqrt{2}}\\langle u|d\\rangle\\right|^2\\\\\n",
    "&= \\left|\\frac{1}{\\sqrt{2}}\\cdot 1 + \\frac{i}{\\sqrt{2}}\\cdot 0\\right|^2\\\\\n",
    "&= \\frac{1}{2}\\\\\n",
    "|\\langle u |o \\rangle |^2 &= \\left|\\langle u| \\left(\\frac{1}{\\sqrt{2}} |u\\rangle - \\frac{i}{\\sqrt{2}}|d\\rangle\\right)\\right|^2\\\\\n",
    "&= \\left|\\frac{1}{\\sqrt{2}}\\langle u|u\\rangle - \\frac{i}{\\sqrt{2}}\\langle u|d\\rangle\\right|^2\\\\\n",
    "&= \\left|\\frac{1}{\\sqrt{2}}\\cdot 1 - \\frac{i}{\\sqrt{2}}\\cdot 0\\right|^2\\\\\n",
    "&= \\frac{1}{2}\\\\\n",
    "|\\langle d |i \\rangle |^2 &= \\left|\\langle d| \\left(\\frac{1}{\\sqrt{2}} |u\\rangle + \\frac{i}{\\sqrt{2}}|d\\rangle\\right)\\right|^2\\\\\n",
    "&= \\left|\\frac{1}{\\sqrt{2}}\\langle d|u\\rangle + \\frac{i}{\\sqrt{2}}\\langle d|d\\rangle\\right|^2\\\\\n",
    "&= \\left|\\frac{1}{\\sqrt{2}}\\cdot 1 + \\frac{i}{\\sqrt{2}}\\cdot 0\\right|^2\\\\\n",
    "&= \\frac{1}{2}\\\\\n",
    "|\\langle d |o \\rangle |^2 &= \\left|\\langle d| \\left(\\frac{1}{\\sqrt{2}} |u\\rangle - \\frac{i}{\\sqrt{2}}|d\\rangle\\right)\\right|^2\\\\\n",
    "&= \\left|\\frac{1}{\\sqrt{2}}\\langle d|u\\rangle - \\frac{i}{\\sqrt{2}}\\langle d|d\\rangle\\right|^2\\\\\n",
    "&= \\left|\\frac{1}{\\sqrt{2}}\\cdot 1 - \\frac{i}{\\sqrt{2}}\\cdot 0\\right|^2\\\\\n",
    "&= \\frac{1}{2}\n",
    "\\end{align*}\n",
    "$$"
   ]
  },
  {
   "cell_type": "markdown",
   "metadata": {},
   "source": [
    "Eqs 2.9 say that magnitude squared of the inner product with $|l\\rangle$ or $|r\\rangle$ is also $1/2$\n",
    "\n",
    "$$\n",
    "\\begin{align*}\n",
    "|\\langle l |i \\rangle |^2 &= \\left|\\langle l| \\left(\\frac{1}{\\sqrt{2}} |u\\rangle + \\frac{i}{\\sqrt{2}}|d\\rangle\\right)\\right|^2\\\\\n",
    "&= \\left|\\frac{1}{\\sqrt{2}}\\langle l|u\\rangle + \\frac{i}{\\sqrt{2}}\\langle l|d\\rangle\\right|^2\\\\\n",
    "&= \\left|\\frac{1}{2}+ \\frac{i}{2}\\right|^2\\\\\n",
    "&= \\frac{1}{2}\\\\\n",
    "|\\langle l |o \\rangle |^2 &= \\left|\\langle l| \\left(\\frac{1}{\\sqrt{2}} |u\\rangle - \\frac{i}{\\sqrt{2}}|d\\rangle\\right)\\right|^2\\\\\n",
    "&= \\left|\\frac{1}{\\sqrt{2}}\\langle l|u\\rangle - \\frac{i}{\\sqrt{2}}\\langle l|d\\rangle\\right|^2\\\\\n",
    "&= \\left|\\frac{1}{2} - \\frac{i}{2}\\right|^2\\\\\n",
    "&= \\frac{1}{2}\\\\\n",
    "|\\langle r |i \\rangle |^2 &= \\left|\\langle r| \\left(\\frac{1}{\\sqrt{2}} |u\\rangle + \\frac{i}{\\sqrt{2}}|d\\rangle\\right)\\right|^2\\\\\n",
    "&= \\left|\\frac{1}{\\sqrt{2}}\\langle r|u\\rangle + \\frac{i}{\\sqrt{2}}\\langle r|d\\rangle\\right|^2\\\\\n",
    "&= \\left|\\frac{1}{2} - \\frac{i}{2}\\right|^2\\\\\n",
    "&= \\frac{1}{2}\\\\\n",
    "|\\langle r |o \\rangle |^2 &= \\left|\\langle r| \\left(\\frac{1}{\\sqrt{2}} |u\\rangle - \\frac{i}{\\sqrt{2}}|d\\rangle\\right)\\right|^2\\\\\n",
    "&= \\left|\\frac{1}{\\sqrt{2}}\\langle r|u\\rangle - \\frac{i}{\\sqrt{2}}\\langle r|d\\rangle\\right|^2\\\\\n",
    "&= \\left|\\frac{1}{2} + \\frac{i}{2}\\right|^2\\\\\n",
    "&= \\frac{1}{2}\n",
    "\\end{align*}\n",
    "$$"
   ]
  },
  {
   "cell_type": "markdown",
   "metadata": {},
   "source": [
    "# Exercise 2.3\n",
    "\n",
    "Forget that Eqs 2.10 give the working definition of $|i\\rangle$ and $|o\\rangle$ in terms of $|u\\rangle$ and $|d\\rangle$, and assume that the components of $\\alpha$, $\\beta$, $\\gamma$ and $\\delta$ are unknown:\n",
    "\n",
    "$$\n",
    "\\begin{align*}\n",
    "|i\\rangle &= \\alpha |u\\rangle + \\beta |d\\rangle\\\\\n",
    "|o\\rangle &= \\gamma |u\\rangle + \\delta |d\\rangle\\\\\n",
    "\\end{align*}\n",
    "$$\n",
    "\n",
    "a) Use Eqs. 2.8 to show that \n",
    "$$\n",
    "\\alpha^*\\alpha = \\beta^*\\beta=\\gamma^*\\gamma=\\delta^*\\delta=\\frac{1}{2}\n",
    "$$\n",
    "\n",
    "b) Use the above results and Eqs 2.9 to show that\n",
    "$$\\alpha^*\\beta+\\alpha \\beta^*=\\gamma^*\\delta+\\gamma\\delta^*=0.$$\n",
    "\n",
    "c) Show that $\\alpha^*\\beta$ and $\\gamma^*\\delta$ must each be pure imaginary\n",
    "\n",
    "If $\\alpha^*\\beta$ is pure imaginary, then $\\alpha$ and $\\beta$ cannot both be real. The same reasoning applies $\\gamma^*\\delta$"
   ]
  },
  {
   "cell_type": "markdown",
   "metadata": {},
   "source": [
    "## Solution"
   ]
  },
  {
   "cell_type": "markdown",
   "metadata": {},
   "source": [
    "a) From the equations 2.8 we have\n",
    "\n",
    "$$\n",
    "\\begin{align*}\n",
    "|\\langle u | o \\rangle|^2 &= \\frac{1}{2}\\\\  \n",
    "|\\langle u | i \\rangle|^2 &= \\frac{1}{2}\\\\    \n",
    "|\\langle d | o \\rangle|^2 &= \\frac{1}{2}\\\\ \n",
    "|\\langle d | i \\rangle|^2 &= \\frac{1}{2}\\\\\n",
    "\\end{align*}\n",
    "$$\n",
    "\n",
    "Using the fact that $\\langle u|d\\rangle = 0$ and that $\\langle u|$ and $\\langle d|$ are unit vectors, it follows that\n",
    "$$\n",
    "\\begin{align*}\n",
    "|\\gamma|^2 &= \\frac{1}{2}\\\\  \n",
    "|\\alpha|^2 &= \\frac{1}{2}\\\\    \n",
    "|\\delta|^2 &= \\frac{1}{2}\\\\ \n",
    "|\\beta|^2 &= \\frac{1}{2}\\\\\n",
    "\\end{align*}\n",
    "$$"
   ]
  },
  {
   "cell_type": "markdown",
   "metadata": {},
   "source": [
    "b) From equations 2.9 we have"
   ]
  },
  {
   "cell_type": "markdown",
   "metadata": {},
   "source": [
    "c) \n",
    "$$\n",
    "\\begin{align*}\n",
    "\\alpha^* \\beta &= -\\alpha \\beta^*\\\\\n",
    "&= -(\\alpha^*\\beta)^*\\\\\n",
    "\\end{align*}\n",
    "$$\n",
    "Since the number is equal to its negative conjugate, it must be pure imaginary"
   ]
  },
  {
   "cell_type": "code",
   "execution_count": null,
   "metadata": {},
   "outputs": [],
   "source": []
  }
 ],
 "metadata": {
  "kernelspec": {
   "display_name": "Julia 1.3.1",
   "language": "julia",
   "name": "julia-1.3"
  },
  "language_info": {
   "file_extension": ".jl",
   "mimetype": "application/julia",
   "name": "julia",
   "version": "1.3.1"
  }
 },
 "nbformat": 4,
 "nbformat_minor": 4
}
