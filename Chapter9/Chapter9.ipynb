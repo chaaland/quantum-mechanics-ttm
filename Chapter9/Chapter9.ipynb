{
 "cells": [
  {
   "cell_type": "markdown",
   "metadata": {},
   "source": [
    "# Exercise 9.1"
   ]
  },
  {
   "cell_type": "markdown",
   "metadata": {},
   "source": [
    "Prove that $\\psi(x) = e^{\\frac{ipx}{\\hbar}}$ satisfies\n",
    "$$-\\frac{\\hbar^2}{2m}\\frac{\\partial^2 \\psi(x)}{\\partial x^2} = \\frac{p^2}{2m} \\psi(x) $$"
   ]
  },
  {
   "cell_type": "markdown",
   "metadata": {},
   "source": [
    "## Solution"
   ]
  },
  {
   "cell_type": "markdown",
   "metadata": {},
   "source": [
    "$$\n",
    "\\begin{align*}\n",
    "\\frac{\\hbar^2}{2m}\\frac{\\partial^2 \\psi(x)}{\\partial x^2} &= -\\frac{\\hbar^2}{2m}\\left(\\frac{ip}{\\hbar}\\right)^2 e^{\\frac{ipx}{\\hbar}}\\\\\n",
    "&= \\frac{p^2}{2m} e^{\\frac{ipx}{\\hbar}}\\\\\n",
    "&= \\frac{p^2}{2m} \\psi(x)\\\\\n",
    "\\end{align*}\n",
    "$$"
   ]
  },
  {
   "cell_type": "markdown",
   "metadata": {},
   "source": [
    "# Exercise 9.2"
   ]
  },
  {
   "cell_type": "markdown",
   "metadata": {},
   "source": [
    "Prove\n",
    "\n",
    "$$\n",
    "\\begin{align*}\n",
    "[\\mathbf{P}^2, \\mathbf{X}] &= \\mathbf{P}[\\mathbf{P},\\mathbf{X}]+[\\mathbf{P},\\mathbf{X}]\\mathbf{P}\\\\\n",
    "\\end{align*}\n",
    "$$"
   ]
  },
  {
   "cell_type": "markdown",
   "metadata": {},
   "source": [
    "## Solution\n",
    "\n",
    "\n",
    "$$\n",
    "\\begin{align*}\n",
    "[\\mathbf{P}^2, \\mathbf{X}] &= \\mathbf{P}^2\\mathbf{X} - \\mathbf{X}\\mathbf{P}^2\\\\\n",
    "\\mathbf{P}[\\mathbf{P},\\mathbf{X}]+[\\mathbf{P},\\mathbf{X}]\\mathbf{P} &= \\mathbf{P}(\\mathbf{P}\\mathbf{X}-\\mathbf{X}\\mathbf{P}) +(\\mathbf{P}\\mathbf{X}-\\mathbf{X}\\mathbf{P})\\mathbf{P}\\\\\n",
    "&= \\mathbf{P}^2\\mathbf{X}-\\mathbf{P}\\mathbf{X}\\mathbf{P} + \\mathbf{P}\\mathbf{X}\\mathbf{P}-\\mathbf{X}\\mathbf{P}^2\\\\\n",
    "&= \\mathbf{P}^2\\mathbf{X}-\\mathbf{X}\\mathbf{P}^2\\\\\n",
    "\\end{align*}\n",
    "$$"
   ]
  },
  {
   "cell_type": "markdown",
   "metadata": {},
   "source": [
    "# Exercise 9.3"
   ]
  },
  {
   "cell_type": "markdown",
   "metadata": {},
   "source": [
    "Prove\n",
    "\n",
    "$$\n",
    "\\begin{align*}\n",
    "[\\mathbf{V}(x),\\mathbf{P}]\\psi(x) &= i\\hbar \\frac{\\mathrm{d}V(x)}{\\mathrm{d}x}\\\\\n",
    "\\end{align*}\n",
    "$$"
   ]
  },
  {
   "cell_type": "markdown",
   "metadata": {},
   "source": [
    "## Solution"
   ]
  },
  {
   "cell_type": "markdown",
   "metadata": {},
   "source": [
    "$$\n",
    "\\begin{align*}\n",
    "[\\mathbf{V}(x),\\mathbf{P}]\\psi(x) &= V(x)\\left(-i\\hbar \\frac{d}{dx}\\right)\\psi(x) - \\left(-i\\hbar \\frac{d}{dx}\\right)V(x)\\psi(x)\\\\\n",
    "&= -i\\hbar V(x) \\psi'(x) + i\\hbar (V'(x)\\psi(x) + V(x)\\psi'(x)) \\\\\n",
    "&= i\\hbar V'(x)\\psi(x)\\\\\n",
    "\\end{align*}\n",
    "$$"
   ]
  },
  {
   "cell_type": "code",
   "execution_count": null,
   "metadata": {},
   "outputs": [],
   "source": []
  }
 ],
 "metadata": {
  "kernelspec": {
   "display_name": "Julia 1.3.1",
   "language": "julia",
   "name": "julia-1.3"
  },
  "language_info": {
   "file_extension": ".jl",
   "mimetype": "application/julia",
   "name": "julia",
   "version": "1.3.1"
  }
 },
 "nbformat": 4,
 "nbformat_minor": 4
}
