{
 "cells": [
  {
   "cell_type": "code",
   "execution_count": 1,
   "metadata": {},
   "outputs": [],
   "source": [
    "using PyPlot;"
   ]
  },
  {
   "cell_type": "markdown",
   "metadata": {},
   "source": [
    "# Exercise 1.1\n",
    "\n",
    "a) Using the axioms for inner products, prove\n",
    "$$\\left(\\langle A| + \\langle B|\\right)|C\\rangle = \\langle A|C\\rangle + \\langle B|C\\rangle $$\n",
    "\n",
    "b) Prove $$\\langle A|A\\rangle$$ is a real number"
   ]
  },
  {
   "cell_type": "markdown",
   "metadata": {},
   "source": [
    "## Solution\n",
    "a.\n",
    "$$\n",
    "\\begin{align*}\n",
    "\\left(\\langle A| + \\langle B|\\right)|C\\rangle & = \\left[\\langle C| \\left(|A\\rangle + |B\\rangle\\right)\\right]^*\\\\\n",
    "&= \\left[\\langle C|A\\rangle + \\langle C|B\\rangle\\right]^* \\\\\n",
    "&= \\langle C|A\\rangle^* + \\langle C|B\\rangle^* \\\\\n",
    "&= \\langle A|C\\rangle + \\langle B|C\\rangle \\\\\n",
    "\\end{align*}\n",
    "$$"
   ]
  },
  {
   "cell_type": "markdown",
   "metadata": {},
   "source": [
    "b. \n",
    "$$\n",
    "\\begin{align*}\n",
    "\\langle A|A\\rangle^* &= \\langle A|A\\rangle \\quad // \\langle B|A\\rangle = \\langle A|B\\rangle^* \\\\\n",
    "\\end{align*}\n",
    "$$\n",
    "\n",
    "Since this number is equal to its conjugate, it must be real"
   ]
  },
  {
   "cell_type": "markdown",
   "metadata": {},
   "source": [
    "# Exercise 1.2\n",
    "\n",
    "Show that the inner product defined by 1.2 satisfies all the axioms of inner products."
   ]
  },
  {
   "cell_type": "markdown",
   "metadata": {},
   "source": [
    "## Solution\n",
    "\n",
    "1. Distributive Property\n",
    "$$\n",
    "\\begin{align*}\n",
    "\\left(\\langle A| + \\langle B|\\right)|C\\rangle &= \\sum_{i=1}^n (a_i^*+b_i^*)c_i\\\\\n",
    "&= \\sum_{i=1}^n (a_i^*+b_i^*)c_i\\\\\n",
    "&= \\sum_{i=1}^n (a_i^*c_i) + (b_i^*c_i)\\\\\n",
    "&= \\sum_{i=1}^n a_i^*c_i + \\sum_{i=1}^n b_i^*c_i\\\\\n",
    "&= \\langle A|C\\rangle + \\langle B|C\\rangle\\\\\n",
    "\\end{align*}\n",
    "$$"
   ]
  },
  {
   "cell_type": "markdown",
   "metadata": {},
   "source": [
    "2. Conjugacy\n",
    "\n",
    "$$\n",
    "\\begin{align*}\n",
    "\\langle A|B\\rangle^* &= \\left(\\sum_{i=1}^n a_i^*b_i\\right)^* \\\\\n",
    "&= \\sum_{i=1}^n a_ib_i^* \\\\\n",
    "&= \\langle B|A\\rangle  \\\\\n",
    "\\end{align*}\n",
    "$$"
   ]
  },
  {
   "cell_type": "code",
   "execution_count": null,
   "metadata": {},
   "outputs": [],
   "source": []
  }
 ],
 "metadata": {
  "kernelspec": {
   "display_name": "Julia 1.3.1",
   "language": "julia",
   "name": "julia-1.3"
  },
  "language_info": {
   "file_extension": ".jl",
   "mimetype": "application/julia",
   "name": "julia",
   "version": "1.3.1"
  }
 },
 "nbformat": 4,
 "nbformat_minor": 4
}
