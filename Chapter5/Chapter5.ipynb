{
 "cells": [
  {
   "cell_type": "markdown",
   "metadata": {},
   "source": [
    "# Exercise 5.1"
   ]
  },
  {
   "cell_type": "markdown",
   "metadata": {},
   "source": [
    "Verify the claim that any 2x2 Hermitian matrix $\\mathbf{L}$ can be written as a sum of four terms,\n",
    "\n",
    "$$\\mathbf{L} = a \\sigma_x + b\\sigma_y + c\\sigma_z+dI$$\n",
    "\n",
    "where \n",
    "\n",
    "$$\n",
    "\\sigma_x = \n",
    "\\begin{bmatrix}\n",
    "0 & 1\\\\\n",
    "1 & 0\\\\\n",
    "\\end{bmatrix},\\quad\n",
    "\\sigma_y = \n",
    "\\begin{bmatrix}\n",
    "0 & -i\\\\\n",
    "i & 0\\\\\n",
    "\\end{bmatrix},\\quad\n",
    "\\sigma_z = \n",
    "\\begin{bmatrix}\n",
    "1 & 0\\\\\n",
    "0 & -1\\\\\n",
    "\\end{bmatrix}\n",
    "$$"
   ]
  },
  {
   "cell_type": "markdown",
   "metadata": {},
   "source": [
    "## Solution"
   ]
  },
  {
   "cell_type": "markdown",
   "metadata": {},
   "source": [
    "A 2x2 Hermititan matrix can be described using only 4 real numbers and must be of the form\n",
    "$$\n",
    "\\mathbf{L} = \n",
    "\\begin{bmatrix}\n",
    "\\alpha & \\beta^*\\\\\n",
    "\\beta & \\gamma\n",
    "\\end{bmatrix}\n",
    "$$\n",
    "where $\\alpha, \\gamma \\in \\mathbf{R}$"
   ]
  },
  {
   "cell_type": "markdown",
   "metadata": {},
   "source": [
    "Given the expansion in the question we can write\n",
    "$$\n",
    "\\begin{bmatrix}\n",
    "\\alpha & \\beta^*\\\\\n",
    "\\beta & \\gamma\n",
    "\\end{bmatrix} = \n",
    "\\begin{bmatrix}\n",
    "c + d & a - bi\\\\\n",
    "a + bi & -c + d\n",
    "\\end{bmatrix}\n",
    "$$\n",
    "\n",
    "So given a hermitian matrix $\\mathbf{L}$ we can expand in the basis of Pauli spin matrices with the following equations \n",
    "\n",
    "$$\n",
    "\\begin{align*}\n",
    "a = \\mathbf{Re}(\\beta)\\\\\n",
    "b = \\mathbf{Im}(\\beta)\\\\\n",
    "c = \\frac{\\alpha - \\gamma}{2}\\\\\n",
    "d = \\frac{\\alpha + \\gamma}{2}\n",
    "\\end{align*}\n",
    "$$"
   ]
  },
  {
   "cell_type": "markdown",
   "metadata": {},
   "source": [
    "# Exercise 5.2"
   ]
  },
  {
   "cell_type": "markdown",
   "metadata": {},
   "source": [
    "1. Show that $\\Delta \\mathbf{A}^2 = \\langle \\bar{\\mathbf{A}}^2\\rangle$ and $\\Delta \\mathbf{B}^2 = \\langle \\bar{\\mathbf{B}}^2\\rangle$.\n",
    "2. Show that $\\left[\\bar{\\mathbf{A}},\\bar{\\mathbf{B}}\\right] = \\left[\\mathbf{A}, \\mathbf{B}\\right]$.\n",
    "3. Using these relations, show that \n",
    "$$\\Delta \\mathbf{A} \\Delta \\mathbf{B} \\ge \\frac{1}{2} |\\langle\\Psi | \\left[\\mathbf{A}, \\mathbf{B}\\right]|\\Psi\\rangle|$$"
   ]
  },
  {
   "cell_type": "markdown",
   "metadata": {},
   "source": [
    "## Solution\n",
    "\n",
    "1. By definition $\\Delta A^2 = \\langle \\Psi | \\bar{A}^2 | \\Psi \\rangle$. This is precisely $\\langle \\bar{A}^2\\rangle$.\n",
    "2. \n",
    "$$\n",
    "\\begin{align*}\n",
    "[\\bar{A},\\bar{B}] &= \\bar{A}\\bar{B} - \\bar{B}\\bar{A}\\\\\n",
    "&= \\left(A-\\langle A\\rangle I\\right)\\left(B-\\langle B\\rangle I\\right) - \\left(B-\\langle B\\rangle I \\right)\\left(A-\\langle A\\rangle I\\right) \\\\\n",
    "&= \\left(AB - \\langle A\\rangle B - \\langle B\\rangle A + \\langle A\\rangle\\langle B\\rangle I\\right) - \\left(BA - \\langle B\\rangle A - \\langle A\\rangle B + \\langle A\\rangle\\langle B\\rangle I\\right)\\\\\n",
    "&= AB - BA\\\\\n",
    "&= [A,B]\\\\\n",
    "\\end{align*}\n",
    "$$\n",
    "3. Define $|X\\rangle = \\bar{A}|\\Psi\\rangle$ and $|Y\\rangle = i\\bar{B}|\\Psi\\rangle$, then by the Cauchy-Schwartz inequality we know $\\sqrt{\\langle X| X\\rangle \\langle Y| Y\\rangle} \\ge \\frac{1}{2} |\\langle X| Y\\rangle + \\langle Y| X\\rangle |$\n",
    "\n",
    "$$\n",
    "\\begin{align*}\n",
    "\\sqrt{\\bar{A}^2 \\bar{B}^2} &= \\sqrt{\\Delta A^2 \\Delta B^2}\\\\\n",
    "&= \\Delta A \\Delta B\\\\\n",
    "&\\ge \\frac{1}{2}|i\\langle \\Psi | \\bar{A}\\bar{B}|\\Psi \\rangle - i \\langle \\Psi | \\bar{B}\\bar{A}|\\Psi\\rangle|\\\\\n",
    "&= \\frac{1}{2}|\\langle \\Psi | \\bar{A}\\bar{B} - \\bar{B}\\bar{A}|\\Psi \\rangle|\\\\\n",
    "&= \\frac{1}{2}|\\langle \\Psi | [\\bar{A},\\bar{B}]|\\Psi \\rangle|\\\\\n",
    "&= \\frac{1}{2}|\\langle \\Psi | [A,B]|\\Psi \\rangle|\\\\\n",
    "\\end{align*}\n",
    "$$"
   ]
  },
  {
   "cell_type": "code",
   "execution_count": null,
   "metadata": {},
   "outputs": [],
   "source": []
  },
  {
   "cell_type": "code",
   "execution_count": null,
   "metadata": {},
   "outputs": [],
   "source": []
  }
 ],
 "metadata": {
  "kernelspec": {
   "display_name": "Python 3",
   "language": "python",
   "name": "python3"
  },
  "language_info": {
   "codemirror_mode": {
    "name": "ipython",
    "version": 3
   },
   "file_extension": ".py",
   "mimetype": "text/x-python",
   "name": "python",
   "nbconvert_exporter": "python",
   "pygments_lexer": "ipython3",
   "version": "3.7.5"
  }
 },
 "nbformat": 4,
 "nbformat_minor": 4
}
