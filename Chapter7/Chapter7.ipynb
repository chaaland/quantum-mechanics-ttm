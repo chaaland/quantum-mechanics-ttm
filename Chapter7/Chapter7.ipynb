{
 "cells": [
  {
   "cell_type": "code",
   "execution_count": 1,
   "metadata": {},
   "outputs": [],
   "source": [
    "using LinearAlgebra;"
   ]
  },
  {
   "cell_type": "markdown",
   "metadata": {},
   "source": [
    "# Exercise 7.1\n",
    "\n",
    "Write the tensor product $I \\otimes \\tau_x$ as a matrix, and apply that matrix to each of the $|uu\\rangle, |ud\\rangle,|du\\rangle$, and $|dd\\rangle$ column vectors. Show that Alice's half of the state-vector is unchanged in each case. Recall that $I$ is the 2x2 unit matrix."
   ]
  },
  {
   "cell_type": "markdown",
   "metadata": {},
   "source": [
    "## Solution"
   ]
  },
  {
   "cell_type": "code",
   "execution_count": 2,
   "metadata": {},
   "outputs": [],
   "source": [
    "pauli_x = [0 1; 1 0];\n",
    "pauli_y = [0 -im; im 0];\n",
    "pauli_z = [1 0; 0 -1];\n",
    "eye = Matrix(1.0I, 2, 2);"
   ]
  },
  {
   "cell_type": "code",
   "execution_count": 5,
   "metadata": {},
   "outputs": [
    {
     "data": {
      "text/plain": [
       "4×4 Array{Float64,2}:\n",
       " 0.0  1.0  0.0  0.0\n",
       " 1.0  0.0  0.0  0.0\n",
       " 0.0  0.0  0.0  1.0\n",
       " 0.0  0.0  1.0  0.0"
      ]
     },
     "execution_count": 5,
     "metadata": {},
     "output_type": "execute_result"
    }
   ],
   "source": [
    "sigma_x = kron(pauli_x, eye);\n",
    "sigma_y = kron(pauli_y, eye);\n",
    "sigma_z = kron(pauli_z, eye);\n",
    "\n",
    "tau_x = kron(eye, pauli_x);\n",
    "tau_y = kron(eye, pauli_y);\n",
    "tau_z = kron(eye, pauli_z);\n",
    "\n",
    "tau_x"
   ]
  },
  {
   "cell_type": "code",
   "execution_count": 7,
   "metadata": {},
   "outputs": [],
   "source": [
    "up = [1,0];\n",
    "down = [0,1];\n",
    "uu = kron(up, up);\n",
    "ud = kron(up, down);\n",
    "du = kron(down, up);\n",
    "dd = kron(down, down);\n",
    "    "
   ]
  },
  {
   "cell_type": "code",
   "execution_count": 8,
   "metadata": {},
   "outputs": [
    {
     "data": {
      "text/plain": [
       "4-element Array{Float64,1}:\n",
       " 0.0\n",
       " 1.0\n",
       " 0.0\n",
       " 0.0"
      ]
     },
     "execution_count": 8,
     "metadata": {},
     "output_type": "execute_result"
    }
   ],
   "source": [
    "tau_x * uu  # ud"
   ]
  },
  {
   "cell_type": "code",
   "execution_count": 9,
   "metadata": {},
   "outputs": [
    {
     "data": {
      "text/plain": [
       "4-element Array{Float64,1}:\n",
       " 1.0\n",
       " 0.0\n",
       " 0.0\n",
       " 0.0"
      ]
     },
     "execution_count": 9,
     "metadata": {},
     "output_type": "execute_result"
    }
   ],
   "source": [
    "tau_x * ud  # uu"
   ]
  },
  {
   "cell_type": "code",
   "execution_count": 10,
   "metadata": {},
   "outputs": [
    {
     "data": {
      "text/plain": [
       "4-element Array{Float64,1}:\n",
       " 0.0\n",
       " 0.0\n",
       " 0.0\n",
       " 1.0"
      ]
     },
     "execution_count": 10,
     "metadata": {},
     "output_type": "execute_result"
    }
   ],
   "source": [
    "tau_x * du  # dd"
   ]
  },
  {
   "cell_type": "code",
   "execution_count": 11,
   "metadata": {},
   "outputs": [
    {
     "data": {
      "text/plain": [
       "4-element Array{Float64,1}:\n",
       " 0.0\n",
       " 0.0\n",
       " 1.0\n",
       " 0.0"
      ]
     },
     "execution_count": 11,
     "metadata": {},
     "output_type": "execute_result"
    }
   ],
   "source": [
    "tau_x * dd  # du"
   ]
  },
  {
   "cell_type": "markdown",
   "metadata": {},
   "source": [
    "# Exercise 7.2"
   ]
  },
  {
   "cell_type": "markdown",
   "metadata": {},
   "source": [
    "Calculate the matrix elements of $\\sigma_x \\otimes \\tau_x$ by forming inner products as we did in Eq 7.2"
   ]
  },
  {
   "cell_type": "markdown",
   "metadata": {},
   "source": [
    "## Solution\n",
    "Too tedious to bother"
   ]
  },
  {
   "cell_type": "markdown",
   "metadata": {},
   "source": [
    "# Exercise 7.3"
   ]
  },
  {
   "cell_type": "markdown",
   "metadata": {},
   "source": [
    "1. Rewrite \n",
    "$$ (A\\otimes B)(a \\otimes b) = (Aa \\otimes Bb)$$\n",
    "in component form\n",
    "2. Perform the matrix mulitplication $Aa$ and $Bb$ on the right-hand side. Verify that each result is a 4x1 matrix.\n",
    "3. Expand all three Kronecker products.\n",
    "4. Verify the row and column sizes of each Kronecker product:\n",
    "- $A\\otimes B$: 4x4\n",
    "- $a\\otimes b$: 4x1\n",
    "- $Aa\\otimes Bb$: 4x1\n",
    "5. Peform the matrix multiplication on the left-hand side result in a 4x1 column vector. Each row should be the sum of four separate terms.\n",
    "6. Finally, verify the the resulting column vectors on the left and right sides are identical."
   ]
  },
  {
   "cell_type": "markdown",
   "metadata": {},
   "source": [
    "## Solution"
   ]
  },
  {
   "cell_type": "markdown",
   "metadata": {},
   "source": [
    "1.\n",
    "$$\n",
    "\\left(\n",
    "\\begin{bmatrix}\n",
    "A_{11} & A_{12}\\\\\n",
    "A_{21} & A_{22}\\\\\n",
    "\\end{bmatrix}\\otimes\n",
    "\\begin{bmatrix}\n",
    "B_{11} & B_{12}\\\\\n",
    "B_{21} & B_{22}\\\\\n",
    "\\end{bmatrix}\n",
    "\\right)\n",
    "\\left(\n",
    "\\begin{bmatrix}\n",
    "a_1\\\\\n",
    "a_2\\\\\n",
    "\\end{bmatrix}\\otimes\n",
    "\\begin{bmatrix}\n",
    "b_1\\\\\n",
    "b_2\\\\\n",
    "\\end{bmatrix}\n",
    "\\right)\n",
    "= \n",
    "\\left(\n",
    "\\begin{bmatrix}\n",
    "A_{11} & A_{12}\\\\\n",
    "A_{21} & A_{22}\\\\\n",
    "\\end{bmatrix}\n",
    "\\begin{bmatrix}\n",
    "a_1\\\\\n",
    "a_2\\\\\n",
    "\\end{bmatrix}\n",
    "\\right)\\otimes\n",
    "\\left(\n",
    "\\begin{bmatrix}\n",
    "B_{11} & B_{12}\\\\\n",
    "B_{21} & B_{22}\\\\\n",
    "\\end{bmatrix}\n",
    "\\begin{bmatrix}\n",
    "b_1\\\\\n",
    "b_2\\\\\n",
    "\\end{bmatrix}\n",
    "\\right)\n",
    "$$"
   ]
  },
  {
   "cell_type": "markdown",
   "metadata": {},
   "source": [
    "2.\n",
    "$$\n",
    "\\begin{align*}\n",
    "\\begin{bmatrix}\n",
    "A_{11} & A_{12}\\\\\n",
    "A_{21} & A_{22}\\\\\n",
    "\\end{bmatrix}\n",
    "\\begin{bmatrix}\n",
    "a_1\\\\\n",
    "a_2\\\\\n",
    "\\end{bmatrix}\n",
    "&=\n",
    "\\begin{bmatrix}\n",
    "A_{11}a_1 + A_{12}a_2\\\\\n",
    "A_{21}a_1 + A_{22}a_2\\\\\n",
    "\\end{bmatrix}\\\\\n",
    "\\begin{bmatrix}\n",
    "B_{11} & B_{12}\\\\\n",
    "B_{21} & B_{22}\\\\\n",
    "\\end{bmatrix}\n",
    "\\begin{bmatrix}\n",
    "b_1\\\\\n",
    "b_2\\\\\n",
    "\\end{bmatrix}\n",
    "&=\n",
    "\\begin{bmatrix}\n",
    "B_{11}b_1 + B_{12}b_2\\\\\n",
    "B_{21}b_1 + B_{22}b_2\\\\\n",
    "\\end{bmatrix}\n",
    "\\end{align*}\n",
    "$$"
   ]
  },
  {
   "cell_type": "markdown",
   "metadata": {},
   "source": [
    "3, 4.\n",
    "$$\n",
    "\\begin{bmatrix}\n",
    "A_{11} & A_{12}\\\\\n",
    "A_{21} & A_{22}\\\\\n",
    "\\end{bmatrix}\\otimes\n",
    "\\begin{bmatrix}\n",
    "B_{11} & B_{12}\\\\\n",
    "B_{21} & B_{22}\\\\\n",
    "\\end{bmatrix} = \n",
    "\\begin{bmatrix}\n",
    "A_{11}B_{11} & A_{11}B_{12} & A_{12}B_{11} & A_{12}B_{12}\\\\\n",
    "A_{11}B_{21} & A_{11}B_{22} & A_{12}B_{21} & A_{12}B_{22}\\\\\n",
    "A_{21}B_{21} & A_{21}B_{22} & A_{22}B_{21} & A_{22}B_{22}\\\\\n",
    "A_{21}B_{21} & A_{21}B_{22} & A_{22}B_{21} & A_{22}B_{22}\\\\\n",
    "\\end{bmatrix}\n",
    "$$\n",
    "\n",
    "$$\n",
    "\\begin{bmatrix}\n",
    "a_1\\\\\n",
    "a_2\\\\\n",
    "\\end{bmatrix}\\otimes\n",
    "\\begin{bmatrix}\n",
    "b_1\\\\\n",
    "b_2\\\\\n",
    "\\end{bmatrix} = \n",
    "\\begin{bmatrix}\n",
    "a_1b_1\\\\\n",
    "a_1b_2\\\\\n",
    "a_2b_1\\\\\n",
    "a_2b_2\\\\\n",
    "\\end{bmatrix}\n",
    "$$\n",
    "\n",
    "$$\n",
    "\\begin{bmatrix}\n",
    "A_{11}a_1 + A_{12}a_2\\\\\n",
    "A_{21}a_1 + A_{22}a_2\\\\\n",
    "\\end{bmatrix}\n",
    "\\begin{bmatrix}\n",
    "B_{11}b_1 + B_{12}b_2\\\\\n",
    "B_{21}b_1 + B_{22}b_2\\\\\n",
    "\\end{bmatrix} =\n",
    "\\begin{bmatrix}\n",
    "(A_{11}a_1 + A_{12}a_2)(B_{11}b_1 + B_{12}b_2)\\\\\n",
    "(A_{11}a_1 + A_{12}a_2)(B_{11}b_1 + B_{12}b_2)\\\\\n",
    "(A_{21}a_1 + A_{22}a_2)(B_{21}b_1 + B_{22}b_2)\\\\\n",
    "(A_{21}a_1 + A_{22}a_2)(B_{21}b_1 + B_{22}b_2)\\\\\n",
    "\\end{bmatrix}\n",
    "$$"
   ]
  },
  {
   "cell_type": "markdown",
   "metadata": {},
   "source": [
    "5, 6.\n",
    "\n",
    "$$\n",
    "\\begin{align*}\n",
    "(A\\otimes B)(a \\otimes b) &=\n",
    "\\begin{bmatrix}\n",
    "A_{11}B_{11} & A_{11}B_{12} & A_{12}B_{11} & A_{12}B_{12}\\\\\n",
    "A_{11}B_{21} & A_{11}B_{22} & A_{12}B_{21} & A_{12}B_{22}\\\\\n",
    "A_{21}B_{21} & A_{21}B_{22} & A_{22}B_{21} & A_{22}B_{22}\\\\\n",
    "A_{21}B_{21} & A_{21}B_{22} & A_{22}B_{21} & A_{22}B_{22}\\\\\n",
    "\\end{bmatrix}\n",
    "\\begin{bmatrix}\n",
    "a_1b_1\\\\\n",
    "a_1b_2\\\\\n",
    "a_2b_1\\\\\n",
    "a_2b_2\\\\\n",
    "\\end{bmatrix}\\\\\n",
    "&=\n",
    "\\begin{bmatrix}\n",
    "A_{11}B_{11}a_1b_1 + A_{11}B_{12}a_1b_2 + A_{12}B_{11}a_2b_1 + A_{12}B_{12}a_2b_2\\\\\n",
    "A_{11}B_{21}a_1b_1 + A_{11}B_{22}a_1b_2 + A_{12}B_{21}a_2b_1 + A_{12}B_{22}a_2b_2\\\\\n",
    "A_{21}B_{21}a_1b_1 + A_{21}B_{22}a_1b_2 + A_{22}B_{21}a_2b_1 + A_{22}B_{22}a_2b_2\\\\\n",
    "A_{21}B_{21}a_1b_1 + A_{21}B_{22}a_1b_2 + A_{22}B_{21}a_2b_1 + A_{22}B_{22}a_2b_2\\\\\n",
    "\\end{bmatrix}\\\\\n",
    "&=\n",
    "\\begin{bmatrix}\n",
    "(A_{11}a_1 + A_{12}a_2)(B_{11}b_1 + B_{12}b_2)\\\\\n",
    "(A_{11}a_1 + A_{12}a_2)(B_{11}b_1 + B_{12}b_2)\\\\\n",
    "(A_{21}a_1 + A_{22}a_2)(B_{21}b_1 + B_{22}b_2)\\\\\n",
    "(A_{21}a_1 + A_{22}a_2)(B_{21}b_1 + B_{22}b_2)\\\\\n",
    "\\end{bmatrix}\n",
    "\\end{align*}\n",
    "$$"
   ]
  },
  {
   "cell_type": "markdown",
   "metadata": {},
   "source": [
    "# Exercise 7.4"
   ]
  },
  {
   "cell_type": "markdown",
   "metadata": {},
   "source": [
    "Calculate the density matrix for \n",
    "$$|\\Psi\\rangle = \\alpha |u\\rangle + \\beta |d\\rangle$$."
   ]
  },
  {
   "cell_type": "markdown",
   "metadata": {},
   "source": [
    "## Solution"
   ]
  },
  {
   "cell_type": "markdown",
   "metadata": {},
   "source": [
    "The density matrix is given by \n",
    "$$\n",
    "\\begin{align*}\n",
    "\\rho &= |\\Psi\\rangle \\langle\\Psi|\\\\\n",
    "&= \\left(\\alpha |u\\rangle + \\beta | d\\rangle \\right)\\left(\\alpha^*\\langle u| + \\beta^* \\langle d| \\right)\\\\\n",
    "&= \\alpha^*\\alpha |u\\rangle \\langle u| + \\alpha^*\\beta | d\\rangle \\langle u| + \\alpha\\beta^*| u\\rangle \\langle d| + \\beta^*\\beta | d\\rangle\\langle d|\\\\\n",
    "\\end{align*}\n",
    "$$\n",
    "\n",
    "So the density matrix is \n",
    "$$\n",
    "\\rho = \n",
    "\\begin{bmatrix}\n",
    "\\alpha^*\\alpha & \\alpha\\beta^*\\\\\n",
    "\\alpha^*\\beta  & \\beta^*\\beta \n",
    "\\end{bmatrix}\n",
    "$$"
   ]
  },
  {
   "cell_type": "markdown",
   "metadata": {},
   "source": [
    "# Exercise 7.5"
   ]
  },
  {
   "cell_type": "markdown",
   "metadata": {},
   "source": [
    "1. Show that \n",
    "$$\n",
    "\\begin{bmatrix}\n",
    "a & 0\\\\\n",
    "0 & b\n",
    "\\end{bmatrix}^2 =\n",
    "\\begin{bmatrix}\n",
    "a^2 & 0\\\\\n",
    "0 & b^2\n",
    "\\end{bmatrix}\n",
    "$$\n",
    "\n",
    "2. Now suppose\n",
    "$$ \\rho = \n",
    "\\begin{bmatrix}\n",
    "1/3 & 0\\\\\n",
    "0 & 2/3\n",
    "\\end{bmatrix}.\n",
    "$$\n",
    "Calculate $\\rho^2$, $\\mathbf{Tr} \\rho$, and $\\mathbf{Tr}\\rho^2$.\n",
    "\n",
    "3. If $\\rho$ is a density matrix, does it represent a pure state or a mixed state?"
   ]
  },
  {
   "cell_type": "markdown",
   "metadata": {},
   "source": [
    "## Solution\n",
    "1. Trivial\n",
    "2. \n",
    "$$\n",
    "\\begin{bmatrix}\n",
    "1/9 & 0\\\\\n",
    "0 & 4/9\n",
    "\\end{bmatrix}, \\quad\n",
    "\\mathbf{Tr}\\rho = 1, \\quad\n",
    "\\mathbf{Tr}\\rho^2 = 5/9\n",
    "$$\n",
    "\n",
    "3. This is a mixed state since $\\mathbf{Tr}(\\rho^2) < 1$."
   ]
  },
  {
   "cell_type": "markdown",
   "metadata": {},
   "source": [
    "# Exercise 7.6"
   ]
  },
  {
   "cell_type": "markdown",
   "metadata": {},
   "source": [
    "Use the fact that $\\mathbf{Prob}(a) = \\rho_{aa}$ to show that if $\\rho$ is a density matrix, then\n",
    "$$\\mathbf{Tr}\\rho = 1$$"
   ]
  },
  {
   "cell_type": "markdown",
   "metadata": {},
   "source": [
    "## Solution\n",
    "\n",
    "By definition of probability\n",
    "$$\n",
    "\\begin{align*}\n",
    "1 &= \\sum_{a}\\mathbf{Prob}(a)\\\\\n",
    "&= \\sum_{a} \\rho_{aa}\\\\\n",
    "&= \\mathbf{Tr}(\\rho)\n",
    "\\end{align*}\n",
    "$$"
   ]
  },
  {
   "cell_type": "markdown",
   "metadata": {},
   "source": [
    "# Exercise 7.7"
   ]
  },
  {
   "cell_type": "markdown",
   "metadata": {},
   "source": [
    "Use the density matrix $\\rho = \\mathbf{diag}(0.5, 0.5)$ to calculate $\\rho^2$. How does this result confirm that $\\rho$ represents an entangled state? "
   ]
  },
  {
   "cell_type": "markdown",
   "metadata": {},
   "source": [
    "## Solution\n",
    "\n",
    "Since $\\rho^2 = \\mathbf{diag}(0.25,0.25)$ then $\\mathbf{Tr}\\rho^2 = 0.5$ indicating an entangled state"
   ]
  },
  {
   "cell_type": "markdown",
   "metadata": {},
   "source": [
    "# Exercise 7.8"
   ]
  },
  {
   "cell_type": "markdown",
   "metadata": {},
   "source": [
    "Consider the following states\n",
    "$$\n",
    "\\begin{align*}\n",
    "|\\psi_1\\rangle &= \\frac{1}{2} \\left(|uu\\rangle + |ud\\rangle + |du\\rangle + |dd\\rangle\\right)\\\\\n",
    "|\\psi_2\\rangle &= \\frac{1}{\\sqrt{2}} \\left(|uu\\rangle + |dd\\rangle\\right)\\\\\n",
    "|\\psi_3\\rangle &= \\frac{1}{5} \\left(3|uu\\rangle + 4|ud\\rangle\\right)\\\\\n",
    "\\end{align*}\n",
    "$$\n",
    "\n",
    "For each one, calculate Alice's density matrix and Bob's density matrix. Check their properties"
   ]
  },
  {
   "cell_type": "markdown",
   "metadata": {},
   "source": [
    "## Solution\n",
    "\n",
    "For Alice, the density matrix is $\\rho_{a'a} = \\sum_{b} \\psi^*(a,b)\\psi(a',b)$. For Bob, the density matrix has elements $\\rho_{b'b} = \\sum_{a}\\psi^*(a,b)\\psi(a,b')$\n",
    "\n",
    "The density matrices for Alice are \n",
    "$$\n",
    "\\begin{bmatrix}\n",
    "0.5 & 0.5\\\\\n",
    "0.5 & 0.5\\\\\n",
    "\\end{bmatrix}, \\quad\n",
    "\\begin{bmatrix}\n",
    "0.5 & 0\\\\\n",
    "0 & 0.5\\\\\n",
    "\\end{bmatrix}, \\quad\n",
    "\\begin{bmatrix} \n",
    "1 & 0\\\\\n",
    "0 & 0\\\\\n",
    "\\end{bmatrix}\n",
    "$$\n",
    "\n",
    "The density matrices for Bob are \n",
    "$$\n",
    "\\begin{bmatrix}\n",
    "0.5 & 0.5\\\\\n",
    "0.5 & 0.5\\\\\n",
    "\\end{bmatrix}, \\quad\n",
    "\\begin{bmatrix}\n",
    "0.5 & 0\\\\\n",
    "0 & 0.5\\\\\n",
    "\\end{bmatrix}, \\quad\n",
    "\\begin{bmatrix} \n",
    "9/25 & 12/25\\\\\n",
    "12/25 & 16/25\\\\\n",
    "\\end{bmatrix}\n",
    "$$"
   ]
  },
  {
   "cell_type": "markdown",
   "metadata": {},
   "source": [
    "# Exercise 7.9"
   ]
  },
  {
   "cell_type": "markdown",
   "metadata": {},
   "source": [
    "Given any Alice observable $\\mathbf{A}$ and Bob observable $\\mathbf{B}$, show that for a product state, the correlation $C(A,B)$ is zero."
   ]
  },
  {
   "cell_type": "markdown",
   "metadata": {},
   "source": [
    "## Solution\n",
    "\n",
    "Using the normalisation condition of a state vector, the fact that $A$ only operates on Alice's state, $B$ only operates on Bob's state, and the result $(A\\otimes B)(a\\otimes b) = Aa \\otimes Bb$ we have\n",
    "\n",
    "$$\n",
    "\\begin{align*}\n",
    "C(A,B) &= \\langle AB\\rangle - \\langle A\\rangle \\langle B\\rangle\\\\\n",
    "&= \\langle \\psi | AB |\\psi \\rangle - \\langle \\psi | A|\\psi \\rangle \\langle \\psi | B |\\psi \\rangle\\\\\n",
    "&= \\left(\\langle x | \\otimes \\langle y|\\right) AB \\left(| x \\rangle \\otimes | y \\rangle\\right) - \\left(\\langle x | \\otimes \\langle y|\\right) A\\left(| x \\rangle \\otimes | y \\rangle\\right) \\left(\\langle x | \\otimes \\langle y|\\right) B \\left(| x \\rangle \\otimes | y \\rangle\\right)\\\\\n",
    "&= \\left(\\langle x |A \\otimes \\langle y|B\\right) \\left(| x \\rangle \\otimes | y \\rangle\\right) - \\left(\\langle x |A \\otimes \\langle y|\\right) \\left(| x \\rangle \\otimes | y \\rangle\\right) \\left(\\langle x | \\otimes \\langle y|B\\right) \\left(| x \\rangle \\otimes | y \\rangle\\right)\\\\\n",
    "&= \\langle x |A | x \\rangle \\otimes \\langle y|B| y \\rangle - \\left(\\langle x |A | x \\rangle \\otimes \\langle y|y \\rangle\\right) \\left(\\langle x | x \\rangle  \\otimes \\langle y|B| y \\rangle\\right)\\\\\n",
    "&= \\langle x |A | x \\rangle \\langle y|B| y \\rangle - \\langle x |A | x \\rangle \\langle y|B| y \\rangle\\\\\n",
    "&=0 \n",
    "\\end{align*}\n",
    "$$"
   ]
  },
  {
   "cell_type": "markdown",
   "metadata": {},
   "source": [
    "# Exercise 7.10"
   ]
  },
  {
   "cell_type": "markdown",
   "metadata": {},
   "source": [
    "Verify that the state-vector $\\alpha_u|u,b\\rangle + \\alpha_d |d,b\\rangle$ represents a completely unentangled state."
   ]
  },
  {
   "cell_type": "markdown",
   "metadata": {},
   "source": [
    "## Solution\n",
    "\n",
    "This represents the product state $(\\alpha_u |u\\rangle + \\alpha_d |d\\rangle) \\otimes |b\\rangle$ therefore must be unentangled."
   ]
  },
  {
   "cell_type": "code",
   "execution_count": null,
   "metadata": {},
   "outputs": [],
   "source": []
  }
 ],
 "metadata": {
  "kernelspec": {
   "display_name": "Julia 1.3.1",
   "language": "julia",
   "name": "julia-1.3"
  },
  "language_info": {
   "file_extension": ".jl",
   "mimetype": "application/julia",
   "name": "julia",
   "version": "1.3.1"
  }
 },
 "nbformat": 4,
 "nbformat_minor": 4
}
