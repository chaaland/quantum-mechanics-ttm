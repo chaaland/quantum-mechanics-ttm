{
 "cells": [
  {
   "cell_type": "code",
   "execution_count": 1,
   "metadata": {},
   "outputs": [],
   "source": [
    "using PyPlot;"
   ]
  },
  {
   "cell_type": "markdown",
   "metadata": {},
   "source": [
    "# Exercise 3.1 \n",
    "Prove the following: If a vector space is $N$-dimensional, an orthonormal basis of $N$ vectors can be constructed from the eigenvectors of a Hermitian operator."
   ]
  },
  {
   "cell_type": "markdown",
   "metadata": {},
   "source": [
    "## Solution"
   ]
  },
  {
   "cell_type": "markdown",
   "metadata": {},
   "source": [
    "# Exercise 3.2\n",
    "Prove that \n",
    "$$\n",
    "\\sigma_z =\n",
    "\\begin{bmatrix}\n",
    "1 & 0\\\\\n",
    "0 & -1\n",
    "\\end{bmatrix}\n",
    "$$\n",
    "\n",
    "is the unique solution to\n",
    "\n",
    "$$\n",
    "\\begin{bmatrix}\n",
    "(\\sigma_z)_{11} & (\\sigma_z)_{12} \\\\\n",
    "(\\sigma_z)_{21} & (\\sigma_z)_{22} \\\\\n",
    "\\end{bmatrix}\n",
    "\\begin{bmatrix}\n",
    "1 \\\\\n",
    "0 \\\\\n",
    "\\end{bmatrix}\n",
    "=\n",
    "\\begin{bmatrix}\n",
    "1 \\\\\n",
    "0 \\\\\n",
    "\\end{bmatrix}\n",
    "$$\n",
    "\n",
    "and\n",
    "\n",
    "$$\n",
    "\\begin{bmatrix}\n",
    "(\\sigma_z)_{11} & (\\sigma_z)_{12} \\\\\n",
    "(\\sigma_z)_{21} & (\\sigma_z)_{22} \\\\\n",
    "\\end{bmatrix}\n",
    "\\begin{bmatrix}\n",
    "0 \\\\\n",
    "1 \\\\\n",
    "\\end{bmatrix}\n",
    "=\n",
    "-\n",
    "\\begin{bmatrix}\n",
    "0 \\\\\n",
    "1 \\\\\n",
    "\\end{bmatrix}\n",
    "$$\n"
   ]
  },
  {
   "cell_type": "markdown",
   "metadata": {},
   "source": [
    "## Solution"
   ]
  },
  {
   "cell_type": "markdown",
   "metadata": {},
   "source": [
    "# Exercise 3.3"
   ]
  },
  {
   "cell_type": "markdown",
   "metadata": {},
   "source": [
    "Calculate the eigenvectors and eigenvalues $\\sigma_n$. Assume the eigenvector $\\lambda_1$ has the form $(\\cos \\alpha, \\sin \\alpha)$, where $\\alpha$ is an unknown parameter. Plug this vector in the eigenvalue equation and solve for $\\alpha$ in terms of $\\theta$. Why did we use a single parameter $\\alpha$?"
   ]
  },
  {
   "cell_type": "markdown",
   "metadata": {},
   "source": [
    "## Solution"
   ]
  },
  {
   "cell_type": "markdown",
   "metadata": {},
   "source": [
    "# Exercise 3.4"
   ]
  },
  {
   "cell_type": "markdown",
   "metadata": {},
   "source": [
    "Let $n_z=\\cos \\theta$, $n_x=\\sin \\theta \\cos \\phi$, and $n_y = \\sin \\theta \\sin \\phi$. Angles $\\theta$ and $\\phi$ are defined according to the usual convention of spherical coordinates. Compute the eigenvalues and eigenvectors for the matrix $\\sigma_n$"
   ]
  },
  {
   "cell_type": "markdown",
   "metadata": {},
   "source": [
    "## Solution"
   ]
  },
  {
   "cell_type": "markdown",
   "metadata": {},
   "source": [
    "# Exercise 3.5"
   ]
  },
  {
   "cell_type": "markdown",
   "metadata": {},
   "source": [
    "Suppose that a spin is prepared so that $\\sigma_n = +1$. The apparatus is then rotated to the $\\hat{n}$ direction and $\\sigma_n$ is measured. What is the probability that the result is +1? Note that $\\sigma_m = \\sigma \\cdot \\hat{m}$, using the same convention we used for $\\sigma_n$."
   ]
  },
  {
   "cell_type": "markdown",
   "metadata": {},
   "source": [
    "## Solution"
   ]
  },
  {
   "cell_type": "code",
   "execution_count": null,
   "metadata": {},
   "outputs": [],
   "source": []
  }
 ],
 "metadata": {
  "kernelspec": {
   "display_name": "Julia 1.3.1",
   "language": "julia",
   "name": "julia-1.3"
  },
  "language_info": {
   "file_extension": ".jl",
   "mimetype": "application/julia",
   "name": "julia",
   "version": "1.3.1"
  }
 },
 "nbformat": 4,
 "nbformat_minor": 4
}
