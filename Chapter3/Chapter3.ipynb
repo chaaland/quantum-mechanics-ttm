{
 "cells": [
  {
   "cell_type": "code",
   "execution_count": 1,
   "metadata": {},
   "outputs": [],
   "source": [
    "using PyPlot;"
   ]
  },
  {
   "cell_type": "markdown",
   "metadata": {},
   "source": [
    "# Exercise 3.1 \n",
    "Prove the following: If a vector space is $N$-dimensional, an orthonormal basis of $N$ vectors can be constructed from the eigenvectors of a Hermitian operator."
   ]
  },
  {
   "cell_type": "markdown",
   "metadata": {},
   "source": [
    "## Solution"
   ]
  },
  {
   "cell_type": "markdown",
   "metadata": {},
   "source": [
    "# Exercise 3.2\n",
    "Prove that \n",
    "$$\n",
    "\\sigma_z =\n",
    "\\begin{bmatrix}\n",
    "1 & 0\\\\\n",
    "0 & -1\n",
    "\\end{bmatrix}\n",
    "$$\n",
    "\n",
    "is the unique solution to\n",
    "\n",
    "$$\n",
    "\\begin{bmatrix}\n",
    "(\\sigma_z)_{11} & (\\sigma_z)_{12} \\\\\n",
    "(\\sigma_z)_{21} & (\\sigma_z)_{22} \\\\\n",
    "\\end{bmatrix}\n",
    "\\begin{bmatrix}\n",
    "1 \\\\\n",
    "0 \\\\\n",
    "\\end{bmatrix}\n",
    "=\n",
    "\\begin{bmatrix}\n",
    "1 \\\\\n",
    "0 \\\\\n",
    "\\end{bmatrix}\n",
    "$$\n",
    "\n",
    "and\n",
    "\n",
    "$$\n",
    "\\begin{bmatrix}\n",
    "(\\sigma_z)_{11} & (\\sigma_z)_{12} \\\\\n",
    "(\\sigma_z)_{21} & (\\sigma_z)_{22} \\\\\n",
    "\\end{bmatrix}\n",
    "\\begin{bmatrix}\n",
    "0 \\\\\n",
    "1 \\\\\n",
    "\\end{bmatrix}\n",
    "=\n",
    "-\n",
    "\\begin{bmatrix}\n",
    "0 \\\\\n",
    "1 \\\\\n",
    "\\end{bmatrix}\n",
    "$$\n"
   ]
  },
  {
   "cell_type": "markdown",
   "metadata": {},
   "source": [
    "## Solution"
   ]
  },
  {
   "cell_type": "markdown",
   "metadata": {},
   "source": [
    "By inspection, the equations are equivalent to \n",
    "$$\n",
    "\\begin{bmatrix}\n",
    "1 & 0 & 0 & 0 \\\\\n",
    "0 & 1 & 0 & 0 \\\\\n",
    "0 & 0 & 1 & 0 \\\\\n",
    "0 & 0 & 0 & 1 \\\\\n",
    "\\end{bmatrix}\n",
    "\\begin{bmatrix}\n",
    "(\\sigma_z)_{11} \\\\\n",
    "(\\sigma_z)_{12} \\\\\n",
    "(\\sigma_z)_{21} \\\\\n",
    "(\\sigma_z)_{22} \\\\\n",
    "\\end{bmatrix}\n",
    "=\n",
    "\\begin{bmatrix}\n",
    "1 \\\\\n",
    "0 \\\\\n",
    "0 \\\\\n",
    "-1 \\\\\n",
    "\\end{bmatrix}\n",
    "$$\n",
    "\n",
    "The system of equations is trivial"
   ]
  },
  {
   "cell_type": "markdown",
   "metadata": {},
   "source": [
    "# Exercise 3.3"
   ]
  },
  {
   "cell_type": "markdown",
   "metadata": {},
   "source": [
    "Calculate the eigenvectors and eigenvalues $\\sigma_n$ corresponding to $n$ lying in the $xz$ plane. Assume the eigenvector $|\\lambda_1\\rangle$ has the form $(\\cos \\alpha, \\sin \\alpha)$, where $\\alpha$ is an unknown parameter. Plug this vector in the eigenvalue equation and solve for $\\alpha$ in terms of $\\theta$. Why did we use a single parameter $\\alpha$?"
   ]
  },
  {
   "cell_type": "markdown",
   "metadata": {},
   "source": [
    "## Solution"
   ]
  },
  {
   "cell_type": "markdown",
   "metadata": {},
   "source": [
    "Since \n",
    "\n",
    "$$\n",
    "\\sigma_n = \n",
    "\\begin{bmatrix}\n",
    "n_3 & n_1 - i n_2\\\\\n",
    "n_1 + i n_2 & -n_3\n",
    "\\end{bmatrix}\n",
    "$$\n",
    "\n",
    "we have $\\mathbf{trace}(\\sigma_n) = 0$ and $\\mathbf{det}(\\sigma_n) = -n_3^2-n_2^2-n_1^2$ which leads to the following equations for the eigenvalues\n",
    "\n",
    "$$\n",
    "\\begin{align*}\n",
    "\\lambda_1 + \\lambda_2 &= 0\\\\\n",
    "\\lambda_1\\lambda_2 &= -n_3^2-n_2^2-n_1^2\n",
    "\\end{align*}\n",
    "$$\n",
    "\n",
    "Solving for the eigenvalues\n",
    "$$\n",
    "\\begin{align*}\n",
    "\\lambda_1 &= \\sqrt{n_3^2+n_2^2+n_1^2}\\\\\n",
    "\\lambda_2 &= -\\sqrt{n_3^2+n_2^2+n_1^2}\n",
    "\\end{align*}\n",
    "$$"
   ]
  },
  {
   "cell_type": "markdown",
   "metadata": {},
   "source": [
    "The eigenvector $|\\lambda_1\\rangle$ can be found by solving the system of equations\n",
    "\n",
    "$$\n",
    "\\begin{bmatrix}\n",
    "n_3 & n_1 - in_2\\\\\n",
    "n_1+i n_2 & -n_3\n",
    "\\end{bmatrix}\n",
    "\\begin{bmatrix}\n",
    "v_1 \\\\\n",
    "v_2\n",
    "\\end{bmatrix}\n",
    "= \\sqrt{n_1^2+n_2^2+n_3^2}\n",
    "\\begin{bmatrix}\n",
    "v_1 \\\\\n",
    "v_2\n",
    "\\end{bmatrix}\n",
    "$$\n",
    "\n",
    "This is equivalent to,\n",
    "$$\n",
    "\\begin{bmatrix}\n",
    "n_3 - \\sqrt{n_1^2+n_2^2+n_3^2} & n_1 - in_2\\\\\n",
    "n_1+i n_2 & -n_3 - \\sqrt{n_1^2+n_2^2+n_3^2}\n",
    "\\end{bmatrix}\n",
    "\\begin{bmatrix}\n",
    "v_1 \\\\\n",
    "v_2\n",
    "\\end{bmatrix}\n",
    "= \n",
    "\\begin{bmatrix}\n",
    "0 \\\\\n",
    "0\n",
    "\\end{bmatrix}\n",
    "$$\n",
    "\n",
    "Multiplying the first equation by $n_3 + \\sqrt{n_1^2+n_2^2+n_3^2}$ and the second by $n_1-in_2$ gives\n",
    "\n",
    "$$\n",
    "\\left(\n",
    "\\begin{array}{cc|c}\n",
    "-(n_1^2+n_2^2) & (n_1 - in_2)\\left(n_3 + \\sqrt{n_1^2+n_2^2+n_3^2}\\right) & 0 \\\\\n",
    "n_1^2+n_2^2 & -(n_1 - in_2)\\left(n_3 + \\sqrt{n_1^2+n_2^2+n_3^2}\\right) & 0 \\\\\n",
    "\\end{array}\n",
    "\\right)\n",
    "$$\n",
    "\n",
    "$$\n",
    "\\left(\n",
    "\\begin{array}{cc|c}\n",
    "-(n_1^2+n_2^2) & (n_1 - in_2)\\left(n_3 + \\sqrt{n_1^2+n_2^2+n_3^2}\\right) & 0 \\\\\n",
    "0 & 0 & 0 \\\\\n",
    "\\end{array}\n",
    "\\right)\n",
    "$$\n",
    "\n",
    "This underdetermined system leads to \n",
    "$$\n",
    "\\begin{align*}\n",
    "(n_1^2+n_2^2)v_1 &= (n_1 - in_2)\\left(n_3 + \\sqrt{n_1^2+n_2^2+n_3^2}\\right) v_2\\\\\n",
    "(n_1 + in_2)v_1 &= \\left(n_3 + \\sqrt{n_1^2+n_2^2+n_3^2}\\right) v_2\\\\\n",
    "\\end{align*}\n",
    "$$\n",
    "\n",
    "Choosing $v_1 = n_3 + \\sqrt{n_1^2+n_2^2+n_3^2}$ for convenience the eigenvector is\n",
    "$$|\\lambda_1\\rangle = \n",
    "\\begin{bmatrix}\n",
    "n_3 + \\sqrt{n_1^2+n_2^2+n_3^2}\\\\\n",
    "n_1 + in_2\n",
    "\\end{bmatrix}\n",
    "$$\n",
    "\n",
    "And since $|\\lambda_2\\rangle$ must be orthogonal to $|\\lambda_1\\rangle$\n",
    "$$|\\lambda_2\\rangle = \n",
    "\\begin{bmatrix}\n",
    "-n_1 + in_2\\\\\n",
    "n_3 + \\sqrt{n_1^2+n_2^2+n_3^2}\\\\\n",
    "\\end{bmatrix}\n",
    "$$"
   ]
  },
  {
   "cell_type": "markdown",
   "metadata": {},
   "source": [
    "Since we are investigating rotation in the $xz$ plane, $n_1 = \\sin \\theta,\\,n_2=0,\\,n_3=\\cos \\theta$. Plugging in we have \n",
    "\n",
    "$$\n",
    "\\begin{align*}\n",
    "\\lambda_1 = 1, |\\lambda_1\\rangle =\n",
    "\\begin{bmatrix}\n",
    "\\cos \\theta + 1\\\\\n",
    "\\sin \\theta\n",
    "\\end{bmatrix}\\\\\n",
    "\\lambda_2 = -1,\n",
    "|\\lambda_2\\rangle =\n",
    "\\begin{bmatrix}\n",
    "-\\sin \\theta\\\\\n",
    "\\cos \\theta + 1\n",
    "\\end{bmatrix}\n",
    "\\end{align*}\n",
    "$$\n",
    "\n",
    "Normalising the vectors by their magnitude $\\sqrt{2 + 2 \\cos \\theta}$, the eigenvectors are\n",
    "\n",
    "$$\n",
    "\\begin{align*}\n",
    "|\\lambda_1\\rangle =\n",
    "\\frac{1}{\\sqrt{2}\\sqrt{1+\\cos\\theta}}\n",
    "\\begin{bmatrix}\n",
    "\\cos \\theta + 1\\\\\n",
    "\\sqrt{(1-\\cos\\theta)(1+\\cos\\theta)}\n",
    "\\end{bmatrix},\\,\n",
    "|\\lambda_2\\rangle =\n",
    "\\frac{1}{\\sqrt{2}\\sqrt{1+\\cos\\theta}}\n",
    "\\begin{bmatrix}\n",
    "-\\sqrt{(1-\\cos\\theta)(1+\\cos\\theta)}\\\\\n",
    "\\cos \\theta + 1\n",
    "\\end{bmatrix}\n",
    "\\end{align*}\n",
    "$$\n",
    "\n",
    "Canceling like terms gives\n",
    "$$\n",
    "\\begin{align*}\n",
    "|\\lambda_1\\rangle =\n",
    "\\begin{bmatrix}\n",
    "\\sqrt{\\frac{1 + \\cos\\theta}{2}}\\\\\n",
    "\\sqrt{\\frac{1 - \\cos\\theta}{2}}\n",
    "\\end{bmatrix},\\,\n",
    "|\\lambda_2\\rangle =\n",
    "\\begin{bmatrix}\n",
    "-\\sqrt{\\frac{1 - \\cos\\theta}{2}}\\\\\n",
    "\\sqrt{\\frac{1 + \\cos\\theta}{2}}\n",
    "\\end{bmatrix}\n",
    "\\end{align*}\n",
    "$$\n",
    "\n",
    "Using the half angle identities this further reduces to\n",
    "$$\n",
    "\\begin{align*}\n",
    "|\\lambda_1\\rangle =\n",
    "\\begin{bmatrix}\n",
    "\\cos(\\theta/2)\\\\\n",
    "\\sin(\\theta/2)\n",
    "\\end{bmatrix},\\,\n",
    "|\\lambda_2\\rangle =\n",
    "\\begin{bmatrix}\n",
    "-\\sin(\\theta/2)\\\\\n",
    "\\cos(\\theta/2)\n",
    "\\end{bmatrix}\n",
    "\\end{align*}\n",
    "$$"
   ]
  },
  {
   "cell_type": "markdown",
   "metadata": {},
   "source": [
    "# Exercise 3.4"
   ]
  },
  {
   "cell_type": "markdown",
   "metadata": {},
   "source": [
    "Let $n_z=\\cos \\theta$, $n_x=\\sin \\theta \\cos \\phi$, and $n_y = \\sin \\theta \\sin \\phi$. Angles $\\theta$ and $\\phi$ are defined according to the usual convention of spherical coordinates. Compute the eigenvalues and eigenvectors for the matrix $\\sigma_n$"
   ]
  },
  {
   "cell_type": "markdown",
   "metadata": {},
   "source": [
    "## Solution"
   ]
  },
  {
   "cell_type": "markdown",
   "metadata": {},
   "source": [
    "Using the expresions derived for the eigenvalues in Exercise 3.3\n",
    "\n",
    "$$\n",
    "\\begin{align*}\n",
    "\\lambda_1 &= \\sqrt{\\sin^2\\theta\\cos^2\\phi + \\sin^2\\theta\\sin^2\\phi + \\cos^2\\theta}\\\\\n",
    "&= 1\\\\\n",
    "\\lambda_2 &= -\\sqrt{\\sin^2\\theta\\cos^2\\phi + \\sin^2\\theta\\sin^2\\phi + \\cos^2\\theta}\\\\\n",
    "&=-1\n",
    "\\end{align*}\n",
    "$$"
   ]
  },
  {
   "cell_type": "markdown",
   "metadata": {},
   "source": [
    "Similarly, using the expression for $|\\lambda_1\\rangle$ and $|\\lambda_2\\rangle$ from the previous exercise\n",
    "\n",
    "$$\n",
    "\\begin{align*}\n",
    "|\\lambda_1\\rangle =\n",
    "\\begin{bmatrix}\n",
    "\\cos(\\theta)+1\\\\\n",
    "\\sin\\theta\\cos\\phi + i \\sin\\theta\\sin\\phi\n",
    "\\end{bmatrix},\\,\n",
    "|\\lambda_2\\rangle =\n",
    "\\begin{bmatrix}\n",
    "-\\sin\\theta\\cos\\phi + i \\sin\\theta\\sin\\phi\\\\\n",
    "\\cos(\\theta)+1\\\\\n",
    "\\end{bmatrix}\n",
    "\\end{align*}\n",
    "$$\n",
    "\n",
    "Rewriting and normalising by the norm, the eigenvectors are\n",
    "\n",
    "$$\n",
    "\\begin{align*}\n",
    "|\\lambda_1\\rangle =\n",
    "\\frac{1}{\\sqrt{2+2\\cos\\theta}}\n",
    "\\begin{bmatrix}\n",
    "\\cos(\\theta)+1\\\\\n",
    "\\sin\\theta e^{i\\phi}\n",
    "\\end{bmatrix},\\,\n",
    "|\\lambda_2\\rangle =\n",
    "\\frac{1}{\\sqrt{2+2\\cos\\theta}}\n",
    "\\begin{bmatrix}\n",
    "-\\sin\\theta e^{-i\\phi}\\\\\n",
    "\\cos(\\theta)+1\\\\\n",
    "\\end{bmatrix}\n",
    "\\end{align*}\n",
    "$$\n",
    "\n",
    "Using the same reduction as in the previous exercise, we have\n",
    "$$\n",
    "\\begin{align*}\n",
    "|\\lambda_1\\rangle =\n",
    "\\begin{bmatrix}\n",
    "\\cos(\\theta/2)\\\\\n",
    "\\sin(\\theta/2) e^{i\\phi}\n",
    "\\end{bmatrix},\\,\n",
    "|\\lambda_2\\rangle =\n",
    "\\begin{bmatrix}\n",
    "-\\sin(\\theta/2) e^{-i\\phi}\\\\\n",
    "\\cos(\\theta/2)\\\\\n",
    "\\end{bmatrix}\n",
    "\\end{align*}\n",
    "$$"
   ]
  },
  {
   "cell_type": "markdown",
   "metadata": {},
   "source": [
    "# Exercise 3.5"
   ]
  },
  {
   "cell_type": "markdown",
   "metadata": {},
   "source": [
    "Suppose that a spin is prepared so that $\\sigma_m = +1$. The apparatus is then rotated to the $\\hat{n}$ direction and $\\sigma_n$ is measured. What is the probability that the result is +1? Note that $\\sigma_m = \\sigma \\cdot \\hat{m}$, using the same convention we used for $\\sigma_n$."
   ]
  },
  {
   "cell_type": "markdown",
   "metadata": {},
   "source": [
    "## Solution"
   ]
  },
  {
   "cell_type": "markdown",
   "metadata": {},
   "source": [
    "This follows immediately from the previous exercise. The $x,y,z$ axes can be reoriented such that $z'$ aligns with $\\hat{m}$. We can then use the result of the previous exercise and find that the probability of eigenstate $\\lambda_1 = 1$ is just $\\cos^2(\\theta/2)$"
   ]
  }
 ],
 "metadata": {
  "kernelspec": {
   "display_name": "Julia 1.3.1",
   "language": "julia",
   "name": "julia-1.3"
  },
  "language_info": {
   "file_extension": ".jl",
   "mimetype": "application/julia",
   "name": "julia",
   "version": "1.3.1"
  }
 },
 "nbformat": 4,
 "nbformat_minor": 4
}
