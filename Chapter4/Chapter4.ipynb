{
 "cells": [
  {
   "cell_type": "markdown",
   "metadata": {},
   "source": [
    "# Exercise 4.1"
   ]
  },
  {
   "cell_type": "markdown",
   "metadata": {},
   "source": [
    "Prove that if $\\mathbf{U}$ is unitary, and if $|A\\rangle$ and $|B\\rangle$ are any two state-vectors, then the inner product of $\\mathbf{U}|A\\rangle$ and $\\mathbf{U}|B\\rangle$ is the same as the inner product of $|A\\rangle$ and $|B\\rangle$. One could call this conservation of overlaps. It expresses the fact that the logical relation between states is preserved with time."
   ]
  },
  {
   "cell_type": "markdown",
   "metadata": {},
   "source": [
    "## Solution"
   ]
  },
  {
   "cell_type": "markdown",
   "metadata": {},
   "source": []
  },
  {
   "cell_type": "markdown",
   "metadata": {},
   "source": [
    "# Exercise 4.2"
   ]
  },
  {
   "cell_type": "markdown",
   "metadata": {},
   "source": [
    "Prove that if $\\mathbf{M}$ and $\\mathbf{L}$ are both Hermitian then $i[\\mathbf{M}, \\mathbf{L}$ is also Hermitian. Not that the $i$ is important. The commutator is, by itself, not Hermitian."
   ]
  },
  {
   "cell_type": "markdown",
   "metadata": {},
   "source": [
    "## Solution"
   ]
  },
  {
   "cell_type": "code",
   "execution_count": null,
   "metadata": {},
   "outputs": [],
   "source": []
  },
  {
   "cell_type": "markdown",
   "metadata": {},
   "source": [
    "# Exercise 4.3"
   ]
  },
  {
   "cell_type": "markdown",
   "metadata": {},
   "source": [
    "Review the definition of Poisson Brackets and check that the identification in _blank_ is dimensionally consistent. Show that without the factor $\\hbar$, it would not be."
   ]
  },
  {
   "cell_type": "markdown",
   "metadata": {},
   "source": [
    "## Solution"
   ]
  },
  {
   "cell_type": "code",
   "execution_count": null,
   "metadata": {},
   "outputs": [],
   "source": []
  },
  {
   "cell_type": "markdown",
   "metadata": {},
   "source": [
    "# Exercise 4.4"
   ]
  },
  {
   "cell_type": "markdown",
   "metadata": {},
   "source": [
    "Verify the following commutator relations\n",
    "\n",
    "$$\n",
    "\\begin{align*}\n",
    "[\\sigma_x, \\sigma_y] &= 2i\\sigma_z\\\\\n",
    "[\\sigma_y, \\sigma_z] &= 2i\\sigma_x\\\\\n",
    "[\\sigma_z, \\sigma_x] &= 2i\\sigma_y\n",
    "\\end{align*}\n",
    "$$"
   ]
  },
  {
   "cell_type": "markdown",
   "metadata": {},
   "source": [
    "## Solution"
   ]
  },
  {
   "cell_type": "markdown",
   "metadata": {},
   "source": [
    "# Exercise 4.5"
   ]
  },
  {
   "cell_type": "markdown",
   "metadata": {},
   "source": [
    "Take any unit 3-vector $n$ and form the operator\n",
    "\n",
    "$$\\mathbf{H} = \\frac{\\hbar \\omega}{2} \\sigma\\cdot n$$.\n",
    "\n",
    "Find the energy eigenvalues and eigenvectors by solving the time-independent Schrodinger equation."
   ]
  },
  {
   "cell_type": "markdown",
   "metadata": {},
   "source": [
    "## Solution"
   ]
  },
  {
   "cell_type": "code",
   "execution_count": null,
   "metadata": {},
   "outputs": [],
   "source": []
  },
  {
   "cell_type": "markdown",
   "metadata": {},
   "source": [
    "# Exercise 4.6"
   ]
  },
  {
   "cell_type": "markdown",
   "metadata": {},
   "source": [
    "Carry out the Schrodinger Ket recipe for a single spin. The Hamiltonian is $\\mathbf{H} = \\frac{\\hbar \\omega}{2}\\sigma_z$, and the final observable is $\\sigma_x$. The initial state is given as $|u\\rangle$ (the state in which $\\sigma_z = +1$).\n",
    "\n",
    "After time $t$, and experiment is done to measure $\\sigma_y$. What are the possible outcomes and what are the probabilites for those outcomes?"
   ]
  },
  {
   "cell_type": "markdown",
   "metadata": {},
   "source": [
    "## Solution"
   ]
  },
  {
   "cell_type": "code",
   "execution_count": null,
   "metadata": {},
   "outputs": [],
   "source": []
  }
 ],
 "metadata": {
  "kernelspec": {
   "display_name": "Julia 1.3.1",
   "language": "julia",
   "name": "julia-1.3"
  },
  "language_info": {
   "file_extension": ".jl",
   "mimetype": "application/julia",
   "name": "julia",
   "version": "1.3.1"
  }
 },
 "nbformat": 4,
 "nbformat_minor": 4
}
