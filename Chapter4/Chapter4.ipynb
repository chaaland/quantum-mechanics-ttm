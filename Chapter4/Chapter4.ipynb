{
 "cells": [
  {
   "cell_type": "markdown",
   "metadata": {},
   "source": [
    "# Exercise 4.1"
   ]
  },
  {
   "cell_type": "markdown",
   "metadata": {},
   "source": [
    "Prove that if $\\mathbf{U}$ is unitary, and if $|A\\rangle$ and $|B\\rangle$ are any two state-vectors, then the inner product of $\\mathbf{U}|A\\rangle$ and $\\mathbf{U}|B\\rangle$ is the same as the inner product of $|A\\rangle$ and $|B\\rangle$. One could call this conservation of overlaps. It expresses the fact that the logical relation between states is preserved with time."
   ]
  },
  {
   "cell_type": "markdown",
   "metadata": {},
   "source": [
    "## Solution"
   ]
  },
  {
   "cell_type": "markdown",
   "metadata": {},
   "source": [
    "$$\n",
    "\\begin{align*}\n",
    "\\left(\\mathbf{U}|A\\rangle\\right)^\\dagger(\\mathbf{U}|B\\rangle) &= \\langle A|\\mathbf{U}^\\dagger \\mathbf{U}|B\\rangle\\\\\n",
    "&= \\langle A|I|B\\rangle\\\\\n",
    "&= \\langle A|B\\rangle\\\\\n",
    "\\end{align*}\n",
    "$$"
   ]
  },
  {
   "cell_type": "markdown",
   "metadata": {},
   "source": [
    "# Exercise 4.2"
   ]
  },
  {
   "cell_type": "markdown",
   "metadata": {},
   "source": [
    "Prove that if $\\mathbf{M}$ and $\\mathbf{L}$ are both Hermitian then $i[\\mathbf{M}, \\mathbf{L}]$ is also Hermitian. Not that the $i$ is important. The commutator is, by itself, not Hermitian."
   ]
  },
  {
   "cell_type": "markdown",
   "metadata": {},
   "source": [
    "## Solution"
   ]
  },
  {
   "cell_type": "markdown",
   "metadata": {},
   "source": [
    "$$\n",
    "\\begin{align*}\n",
    "\\left(i[\\mathbf{M}, \\mathbf{L}]\\right)^\\dagger &= \\left(i[\\mathbf{M}\\mathbf{L} - \\mathbf{L}\\mathbf{M}]\\right)^\\dagger\\\\\n",
    "&= -i\\left[\\left(\\mathbf{M}\\mathbf{L}\\right)^\\dagger - \\left(\\mathbf{L}\\mathbf{M}\\right)^\\dagger\\right]\\\\\n",
    "&= -i\\left[\\left(\\mathbf{L}^\\dagger\\mathbf{M}^\\dagger\\right) - \\left(\\mathbf{M}^\\dagger\\mathbf{L}^\\dagger\\right)\\right]\\\\\n",
    "&= -i\\left[\\mathbf{L}\\mathbf{M} - \\mathbf{M}\\mathbf{L}\\right]\\\\\n",
    "&= i\\left[\\mathbf{M}\\mathbf{L} - \\mathbf{L}\\mathbf{M}\\right]\\\\\n",
    "&= i[\\mathbf{M}, \\mathbf{L}]\n",
    "\\end{align*}\n",
    "$$"
   ]
  },
  {
   "cell_type": "markdown",
   "metadata": {},
   "source": [
    "# Exercise 4.3"
   ]
  },
  {
   "cell_type": "markdown",
   "metadata": {},
   "source": [
    "Review the definition of Poisson Brackets and check that the identification in the equation $[F,G] = i\\hbar \\{F,G\\}$ is dimensionally consistent. Show that without the factor $\\hbar$, it would not be."
   ]
  },
  {
   "cell_type": "markdown",
   "metadata": {},
   "source": [
    "## Solution"
   ]
  },
  {
   "cell_type": "code",
   "execution_count": null,
   "metadata": {},
   "outputs": [],
   "source": []
  },
  {
   "cell_type": "markdown",
   "metadata": {},
   "source": [
    "# Exercise 4.4"
   ]
  },
  {
   "cell_type": "markdown",
   "metadata": {},
   "source": [
    "Verify the following commutator relations\n",
    "\n",
    "$$\n",
    "\\begin{align*}\n",
    "[\\sigma_x, \\sigma_y] &= 2i\\sigma_z\\\\\n",
    "[\\sigma_y, \\sigma_z] &= 2i\\sigma_x\\\\\n",
    "[\\sigma_z, \\sigma_x] &= 2i\\sigma_y\n",
    "\\end{align*}\n",
    "$$"
   ]
  },
  {
   "cell_type": "markdown",
   "metadata": {},
   "source": [
    "## Solution"
   ]
  },
  {
   "cell_type": "markdown",
   "metadata": {},
   "source": [
    "Recalling the definitions of the Pauli spin matrices,\n",
    "\n",
    "$$\n",
    "\\begin{align*}\n",
    "\\sigma_z =\n",
    "\\begin{bmatrix}\n",
    "1 & 0\\\\\n",
    "0 & -1\\\\\n",
    "\\end{bmatrix}\\\\\n",
    "\\sigma_x = \n",
    "\\begin{bmatrix}\n",
    "0 & 1\\\\\n",
    "1 & 0\\\\\n",
    "\\end{bmatrix}\\\\\n",
    "\\sigma_y = \n",
    "\\begin{bmatrix}\n",
    "0 & -i\\\\\n",
    "i & 0\\\\\n",
    "\\end{bmatrix}\n",
    "\\end{align*}\n",
    "$$\n",
    "verifying the commutator relations is a matter of simple matrix algebra"
   ]
  },
  {
   "cell_type": "markdown",
   "metadata": {},
   "source": [
    "$$\n",
    "\\begin{align*}\n",
    "[\\sigma_x,\\sigma_y] &= \n",
    "\\begin{bmatrix}\n",
    "0 & 1\\\\\n",
    "1 & 0\\\\\n",
    "\\end{bmatrix}\n",
    "\\begin{bmatrix}\n",
    "0 & -i\\\\\n",
    "i & 0\\\\\n",
    "\\end{bmatrix} - \n",
    "\\begin{bmatrix}\n",
    "0 & -i\\\\\n",
    "i & 0\\\\\n",
    "\\end{bmatrix}\n",
    "\\begin{bmatrix}\n",
    "0 & 1\\\\\n",
    "1 & 0\\\\\n",
    "\\end{bmatrix}\\\\\n",
    "&=\n",
    "\\begin{bmatrix}\n",
    "i & 0\\\\\n",
    "0 & -i\\\\\n",
    "\\end{bmatrix}-\n",
    "\\begin{bmatrix}\n",
    "-i & 0\\\\\n",
    "0 & i\\\\\n",
    "\\end{bmatrix}\\\\\n",
    "&=\n",
    "\\begin{bmatrix}\n",
    "2i & 0\\\\\n",
    "0 & -2i\\\\\n",
    "\\end{bmatrix}\\\\\n",
    "&=2i\n",
    "\\begin{bmatrix}\n",
    "1 & 0\\\\\n",
    "0 & -1\\\\\n",
    "\\end{bmatrix}\n",
    "\\end{align*}\n",
    "$$"
   ]
  },
  {
   "cell_type": "markdown",
   "metadata": {},
   "source": [
    "$$\n",
    "\\begin{align*}\n",
    "[\\sigma_y,\\sigma_z] &= \n",
    "\\begin{bmatrix}\n",
    "0 & -i\\\\\n",
    "i & 0\\\\\n",
    "\\end{bmatrix}\n",
    "\\begin{bmatrix}\n",
    "1 & 0\\\\\n",
    "0 & -1\\\\\n",
    "\\end{bmatrix} -\n",
    "\\begin{bmatrix}\n",
    "1 & 0\\\\\n",
    "0 & -1\\\\\n",
    "\\end{bmatrix}\n",
    "\\begin{bmatrix}\n",
    "0 & -i\\\\\n",
    "i & 0\\\\\n",
    "\\end{bmatrix}\\\\\n",
    "&=\n",
    "\\begin{bmatrix}\n",
    "0 & i\\\\\n",
    "i & 0\\\\\n",
    "\\end{bmatrix}-\n",
    "\\begin{bmatrix}\n",
    "0 & -i\\\\\n",
    "-i & 0\\\\\n",
    "\\end{bmatrix}\\\\\n",
    "&=\n",
    "\\begin{bmatrix}\n",
    "0 & 2i\\\\\n",
    "2i & 0\\\\\n",
    "\\end{bmatrix}\\\\\n",
    "&=2i\n",
    "\\begin{bmatrix}\n",
    "0 & 1\\\\\n",
    "1 & 0\\\\\n",
    "\\end{bmatrix}\n",
    "\\end{align*}\n",
    "$$"
   ]
  },
  {
   "cell_type": "markdown",
   "metadata": {},
   "source": [
    "$$\n",
    "\\begin{align*}\n",
    "[\\sigma_z,\\sigma_x] &= \n",
    "\\begin{bmatrix}\n",
    "1 & 0\\\\\n",
    "0 & -1\\\\\n",
    "\\end{bmatrix}\n",
    "\\begin{bmatrix}\n",
    "0 & 1\\\\\n",
    "1 & 0\\\\\n",
    "\\end{bmatrix}\n",
    " -\n",
    "\\begin{bmatrix}\n",
    "0 & 1\\\\\n",
    "1 & 0\\\\\n",
    "\\end{bmatrix}\n",
    "\\begin{bmatrix}\n",
    "1 & 0\\\\\n",
    "0 & -1\\\\\n",
    "\\end{bmatrix}\\\\\n",
    "&=\n",
    "\\begin{bmatrix}\n",
    "0 & 1\\\\\n",
    "-1 & 0\\\\\n",
    "\\end{bmatrix}-\n",
    "\\begin{bmatrix}\n",
    "0 & -1\\\\\n",
    "1 & 0\\\\\n",
    "\\end{bmatrix}\\\\\n",
    "&=\n",
    "\\begin{bmatrix}\n",
    "0 & 2\\\\\n",
    "-2 & 0\\\\\n",
    "\\end{bmatrix}\\\\\n",
    "&=2i\n",
    "\\begin{bmatrix}\n",
    "0 & -i\\\\\n",
    "i & 0\\\\\n",
    "\\end{bmatrix}\n",
    "\\end{align*}\n",
    "$$"
   ]
  },
  {
   "cell_type": "markdown",
   "metadata": {},
   "source": [
    "# Exercise 4.5"
   ]
  },
  {
   "cell_type": "markdown",
   "metadata": {},
   "source": [
    "Take any unit 3-vector $n$ and form the operator\n",
    "\n",
    "$$\\mathbf{H} = \\frac{\\hbar \\omega}{2} \\sigma\\cdot n$$.\n",
    "\n",
    "Find the energy eigenvalues and eigenvectors by solving the time-independent Schrodinger equation."
   ]
  },
  {
   "cell_type": "markdown",
   "metadata": {},
   "source": [
    "## Solution"
   ]
  },
  {
   "cell_type": "markdown",
   "metadata": {},
   "source": [
    "This is the same as Exercise 3.3 where it was found the eigenvalues are\n",
    "$$\n",
    "\\begin{align*}\n",
    "\\lambda_1 &= \\sqrt{n_3^2+n_2^2+n_1^2}\\\\\n",
    "\\lambda_2 &= -\\sqrt{n_3^2+n_2^2+n_1^2}\n",
    "\\end{align*}\n",
    "$$\n",
    "with corresponding eigenvectors\n",
    "$$|\\lambda_1\\rangle = \n",
    "\\begin{bmatrix}\n",
    "n_3 + \\sqrt{n_1^2+n_2^2+n_3^2}\\\\\n",
    "n_1 + in_2\n",
    "\\end{bmatrix}\n",
    "$$\n",
    "\n",
    "$$|\\lambda_2\\rangle = \n",
    "\\begin{bmatrix}\n",
    "-n_1 + in_2\\\\\n",
    "n_3 + \\sqrt{n_1^2+n_2^2+n_3^2}\\\\\n",
    "\\end{bmatrix}\n",
    "$$"
   ]
  },
  {
   "cell_type": "markdown",
   "metadata": {},
   "source": [
    "# Exercise 4.6"
   ]
  },
  {
   "cell_type": "markdown",
   "metadata": {},
   "source": [
    "Carry out the Schrodinger Ket recipe for a single spin. The Hamiltonian is $\\mathbf{H} = \\frac{\\hbar \\omega}{2}\\sigma_z$, and the final observable is $\\sigma_x$. The initial state is given as $|u\\rangle$ (the state in which $\\sigma_z = +1$).\n",
    "\n",
    "After time $t$, and experiment is done to measure $\\sigma_y$. What are the possible outcomes and what are the probabilites for those outcomes?"
   ]
  },
  {
   "cell_type": "markdown",
   "metadata": {},
   "source": [
    "## Solution"
   ]
  },
  {
   "cell_type": "markdown",
   "metadata": {},
   "source": [
    "The Hamiltonian is given by \n",
    "$$\n",
    "\\mathbf{H} = \\frac{\\hbar \\omega}{2}\n",
    "\\begin{bmatrix}\n",
    "1 & 0\\\\\n",
    "0 & -1\\\\\n",
    "\\end{bmatrix}\n",
    "$$\n",
    "with eigenvalues $\\lambda_i = \\frac{\\hbar \\omega}{2}(-1)^{i+1}$ and corresponding eigenvectors $|\\lambda_i \\rangle = e_i$. The time dependent Schrodinger equation is\n",
    "\n",
    "$$\\frac{\\partial|\\Psi(t)\\rangle}{\\partial t} = \\frac{-i}{\\hbar}H|\\Psi(t)\\rangle$$\n",
    "\n",
    "The solution is given in terms of the matrix exponential \n",
    "$$\n",
    "\\begin{align*}\n",
    "|\\Psi(t)\\rangle &= \\exp\\left(t\\frac{-i}{\\hbar}H\\right)|\\Psi(0)\\rangle\\\\\n",
    "&= \\exp\\left(t\\frac{-i}{\\hbar}VDV^\\dagger\\right)|\\Psi(0)\\rangle\\\\\n",
    "&= V\\exp\\left(t\\frac{-i}{\\hbar}D\\right)V^\\dagger|\\Psi(0)\\rangle\\\\\n",
    "&= \n",
    "\\begin{bmatrix}\n",
    "1 & 0\\\\\n",
    "0 & 1\n",
    "\\end{bmatrix}\n",
    "\\exp\\left(t\\frac{-i}{\\hbar}\n",
    "\\begin{bmatrix}\n",
    "\\frac{\\hbar \\omega}{2} & 0\\\\\n",
    "0 & -\\frac{\\hbar \\omega}{2}\n",
    "\\end{bmatrix}\n",
    "\\right)\n",
    "\\begin{bmatrix}\n",
    "1 & 0\\\\\n",
    "0 & 1\n",
    "\\end{bmatrix}\n",
    "|\\Psi(0)\\rangle\\\\\n",
    "&= \n",
    "\\begin{bmatrix}\n",
    "\\exp\\left(\\frac{-i\\omega t}{2}\\right) & 0\\\\\n",
    "0 & \\exp\\left(\\frac{i\\omega t}{2}\\right)\n",
    "\\end{bmatrix}\n",
    "|\\Psi(0)\\rangle\\\\\n",
    "\\end{align*}\n",
    "$$\n",
    "The initial state is given by $|\\Psi(0)\\rangle = |\\lambda_1\\rangle$ so \n",
    "$$\n",
    "|\\Psi(t)\\rangle = \n",
    "\\begin{bmatrix}\n",
    "\\exp\\left(\\frac{-i\\omega t}{2}\\right)\\\\\n",
    "0 \n",
    "\\end{bmatrix}\n",
    "$$"
   ]
  },
  {
   "cell_type": "markdown",
   "metadata": {},
   "source": [
    "Using the observable \n",
    "$$\n",
    "\\sigma_y = \n",
    "\\begin{bmatrix} 0 & -i \\\\\n",
    "i & 0\n",
    "\\end{bmatrix}\n",
    "$$\n",
    "which has eigenvalues $\\phi_i = (-1)^{i+1}$ and eigenvectors \n",
    "$$|\\phi_1\\rangle = \\frac{1}{\\sqrt{2}}(1, i)^T,\\, |\\phi_2\\rangle = \\frac{1}{\\sqrt{2}}(i, 1)^T$$"
   ]
  },
  {
   "cell_type": "markdown",
   "metadata": {},
   "source": [
    "The probability of measuring $\\phi_1 = 1$ is \n",
    "$$\n",
    "\\begin{align*}\n",
    "P_{\\phi_1}(t) &= |\\langle \\Psi(t)|\\phi_1\\rangle|^2 \\\\\n",
    "&= \\left|\\frac{1}{\\sqrt{2}}\\exp(i\\omega t)\\right|^2 \\\\\n",
    "&= 0.5\n",
    "\\end{align*}\n",
    "$$\n",
    "\n",
    "The probability of measuring $\\phi_2 = -1$ is \n",
    "$$\n",
    "\\begin{align*}\n",
    "P_{\\phi_2}(t) &= |\\langle \\Psi(t)|\\phi_2\\rangle|^2 \\\\\n",
    "&= \\left|\\frac{i}{\\sqrt{2}}\\exp(i\\omega t)\\right|^2 \\\\\n",
    "&= 0.5\n",
    "\\end{align*}\n",
    "$$"
   ]
  },
  {
   "cell_type": "code",
   "execution_count": null,
   "metadata": {},
   "outputs": [],
   "source": []
  }
 ],
 "metadata": {
  "kernelspec": {
   "display_name": "Julia 1.3.1",
   "language": "julia",
   "name": "julia-1.3"
  },
  "language_info": {
   "file_extension": ".jl",
   "mimetype": "application/julia",
   "name": "julia",
   "version": "1.3.1"
  }
 },
 "nbformat": 4,
 "nbformat_minor": 4
}
